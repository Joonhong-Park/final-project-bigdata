{
 "cells": [
  {
   "cell_type": "code",
   "execution_count": 2,
   "metadata": {},
   "outputs": [
    {
     "name": "stdin",
     "output_type": "stream",
     "text": [
      "Input keyword:  유리병\n"
     ]
    }
   ],
   "source": [
    "from urllib.request import urlopen # Url read\n",
    "from urllib.request import urlretrieve # save image\n",
    "from urllib.parse import quote_plus # input korean keyword\n",
    "from selenium import webdriver # web driver\n",
    "from bs4 import BeautifulSoup\n",
    "import time\n",
    "\n",
    "keyword = input(\"Input keyword: \")\n",
    "url = f\"https://www.google.co.in/search?q={quote_plus(keyword)}&tbm=isch\"\n",
    "driver = webdriver.Chrome('C:/Temp/chromedriver')\n",
    "driver.get(url)"
   ]
  },
  {
   "cell_type": "code",
   "execution_count": 6,
   "metadata": {},
   "outputs": [
    {
     "name": "stdout",
     "output_type": "stream",
     "text": [
      "finish\n"
     ]
    }
   ],
   "source": [
    "# for i in range(200):\n",
    "#     driver.execute_script(\"window.scrollBy(0,10000)\")\n",
    "# #     more_button = driver.find_elements_by_css_selector(\".YstHxe > input\")\n",
    "# #     if len(more_button) > 0 :\n",
    "# #         more_button[0].click()\n",
    "# #         more_button = None\n",
    "# #         time.sleep(2)\n",
    "        \n",
    "html = driver.page_source\n",
    "soup = BeautifulSoup(html)\n",
    "img = soup.select('.rg_i.Q4LuWd')\n",
    "\n",
    "count = 1\n",
    "img_url = []\n",
    "\n",
    "for i in img:\n",
    "    try:\n",
    "        img_url.append(i.attrs[\"src\"])\n",
    "    except KeyError:\n",
    "        img_url.append(i.attrs[\"data-src\"])\n",
    "        \n",
    "for i in img_url:\n",
    "    urlretrieve(i, 'c:/recycle_project/google/이물질/' + str(count) + '.png')\n",
    "    count += 1\n",
    "\n",
    "driver.close()\n",
    "\n",
    "print('finish')\n",
    "\n"
   ]
  },
  {
   "cell_type": "code",
   "execution_count": null,
   "metadata": {},
   "outputs": [],
   "source": []
  }
 ],
 "metadata": {
  "kernelspec": {
   "display_name": "pydatavenv",
   "language": "python",
   "name": "pydatavenv"
  },
  "language_info": {
   "codemirror_mode": {
    "name": "ipython",
    "version": 3
   },
   "file_extension": ".py",
   "mimetype": "text/x-python",
   "name": "python",
   "nbconvert_exporter": "python",
   "pygments_lexer": "ipython3",
   "version": "3.7.9"
  }
 },
 "nbformat": 4,
 "nbformat_minor": 4
}
