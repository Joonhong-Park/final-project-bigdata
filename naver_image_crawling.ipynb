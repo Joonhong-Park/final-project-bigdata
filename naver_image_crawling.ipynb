{
 "cells": [
  {
   "cell_type": "code",
   "execution_count": 11,
   "metadata": {},
   "outputs": [
    {
     "name": "stdin",
     "output_type": "stream",
     "text": [
      "Input keyword:  화장품 유리병\n"
     ]
    }
   ],
   "source": [
    "from urllib.request import urlopen # Url read\n",
    "from urllib.request import urlretrieve # save image\n",
    "from urllib.parse import quote_plus # input korean keyword\n",
    "from selenium import webdriver # web driver\n",
    "from bs4 import BeautifulSoup\n",
    "import time\n",
    "import os\n",
    "\n",
    "keyword = input(\"Input keyword: \")\n",
    "url = f\"https://search.naver.com/search.naver?where=image&sm=tab_jum&query={quote_plus(keyword)}\"\n",
    "driver = webdriver.Chrome('C:/Temp/chromedriver')\n",
    "driver.get(url)"
   ]
  },
  {
   "cell_type": "code",
   "execution_count": 12,
   "metadata": {},
   "outputs": [
    {
     "name": "stdout",
     "output_type": "stream",
     "text": [
      "더보기 클릭\n",
      "scroll을 마지막까지 완료했습니다.\n"
     ]
    }
   ],
   "source": [
    "def scroll_webpage(driver):\n",
    "    heightPre = driver.execute_script(\"return document.body.scrollHeight\")\n",
    "    while True:\n",
    "        driver.execute_script(\n",
    "            \"window.scrollTo(0, document.body.scrollHeight);\")\n",
    "        time.sleep(1)  # SCROLL DELAY\n",
    "        heightCurr = driver.execute_script(\"return document.body.scrollHeight\")\n",
    "        try:\n",
    "\n",
    "            if heightCurr == heightPre:\n",
    "                driver.find_element_by_css_selector(\".more_img\").click()\n",
    "                print('더보기 클릭')\n",
    "        except:\n",
    "            print(\"scroll을 마지막까지 완료했습니다.\")\n",
    "            return\n",
    "        heightPre = heightCurr\n",
    "\n",
    "def ImageDownload(driver):\n",
    "    html = driver.page_source\n",
    "    soup = BeautifulSoup(html)\n",
    "    imgs = soup.select('.img_area > a > img')       \n",
    "    count = 1\n",
    "\n",
    "    for img in imgs:\n",
    "        i = img['src']\n",
    "        urlretrieve(i, 'c:/recycle_project/naver/cosmetics/' + str(count) + '.png')\n",
    "        count += 1\n",
    "\n",
    "scroll_webpage(driver)\n",
    "ImageDownload(driver)\n",
    "driver.close()"
   ]
  },
  {
   "cell_type": "code",
   "execution_count": null,
   "metadata": {},
   "outputs": [],
   "source": []
  },
  {
   "cell_type": "code",
   "execution_count": null,
   "metadata": {},
   "outputs": [],
   "source": []
  }
 ],
 "metadata": {
  "kernelspec": {
   "display_name": "pydatavenv",
   "language": "python",
   "name": "pydatavenv"
  },
  "language_info": {
   "codemirror_mode": {
    "name": "ipython",
    "version": 3
   },
   "file_extension": ".py",
   "mimetype": "text/x-python",
   "name": "python",
   "nbconvert_exporter": "python",
   "pygments_lexer": "ipython3",
   "version": "3.7.9"
  }
 },
 "nbformat": 4,
 "nbformat_minor": 4
}
