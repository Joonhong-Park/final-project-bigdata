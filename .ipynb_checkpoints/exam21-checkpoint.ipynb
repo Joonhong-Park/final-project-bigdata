{
 "cells": [
  {
   "cell_type": "markdown",
   "metadata": {},
   "source": [
    "# 파이썬으로 구현하는 텍스트 분석(자연어 처리)"
   ]
  },
  {
   "cell_type": "markdown",
   "metadata": {},
   "source": [
    "-----"
   ]
  },
  {
   "cell_type": "markdown",
   "metadata": {},
   "source": [
    "### 1. koNLPy를 활용한 형태소 분석\n",
    "### 2. 워드 클라우드\n",
    "### 3. 한국어 기반의 자연어 처리 모듈 - nltk\n",
    "### 4. 텍스트 전처리\n",
    "### 5. 카운트 기반의 단어 표현\n",
    "### 6. 한글 자모 분해와 결합"
   ]
  },
  {
   "cell_type": "markdown",
   "metadata": {},
   "source": [
    "## *KoNLPy : 한국어 정보처리를 위한 파이썬 패키지 (https://konlpy.org/ko/latest/)"
   ]
  },
  {
   "cell_type": "markdown",
   "metadata": {},
   "source": [
    "## 1. koNLPy를 활용한 형태소 분석"
   ]
  },
  {
   "cell_type": "code",
   "execution_count": 1,
   "metadata": {},
   "outputs": [],
   "source": [
    "from konlpy.tag import Kkma\n",
    "from konlpy.utils import pprint\n",
    "import pandas as pd\n",
    "import numpy as np "
   ]
  },
  {
   "cell_type": "code",
   "execution_count": 2,
   "metadata": {},
   "outputs": [],
   "source": [
    "kkma = Kkma()"
   ]
  },
  {
   "cell_type": "code",
   "execution_count": 3,
   "metadata": {},
   "outputs": [
    {
     "name": "stdout",
     "output_type": "stream",
     "text": [
      "['네, 안녕하세요.', '반갑습니다.']\n"
     ]
    }
   ],
   "source": [
    "pprint(kkma.sentences('네, 안녕하세요. 반갑습니다.'))"
   ]
  },
  {
   "cell_type": "code",
   "execution_count": 4,
   "metadata": {},
   "outputs": [
    {
     "name": "stdout",
     "output_type": "stream",
     "text": [
      "['질문', '건의', '건의사항', '사항', '깃헙', '이슈', '트래커']\n"
     ]
    }
   ],
   "source": [
    "pprint(kkma.nouns('질문이나 건의사항은 깃헙 이슈 트래커에 남겨주세요.'))\n"
   ]
  },
  {
   "cell_type": "code",
   "execution_count": 5,
   "metadata": {},
   "outputs": [
    {
     "name": "stdout",
     "output_type": "stream",
     "text": [
      "[('오류', 'NNG'),\n",
      " ('보고', 'NNG'),\n",
      " ('는', 'JX'),\n",
      " ('실행', 'NNG'),\n",
      " ('환경', 'NNG'),\n",
      " (',', 'SP'),\n",
      " ('에러', 'NNG'),\n",
      " ('메세지', 'NNG'),\n",
      " ('와', 'JKM'),\n",
      " ('함께', 'MAG'),\n",
      " ('설명', 'NNG'),\n",
      " ('을', 'JKO'),\n",
      " ('최대한', 'NNG'),\n",
      " ('상세히', 'MAG'),\n",
      " ('!', 'SF'),\n",
      " ('^^', 'EMO')]\n"
     ]
    }
   ],
   "source": [
    "pprint(kkma.pos('오류보고는 실행환경, 에러메세지와함께 설명을 최대한상세히!^^'))"
   ]
  },
  {
   "cell_type": "markdown",
   "metadata": {},
   "source": [
    "### [형태소 분석기 비교]"
   ]
  },
  {
   "cell_type": "code",
   "execution_count": 6,
   "metadata": {},
   "outputs": [],
   "source": [
    "sample = '이것은 형태소 분석기 입니다 아버지가방에들어가신다'"
   ]
  },
  {
   "cell_type": "code",
   "execution_count": 7,
   "metadata": {},
   "outputs": [
    {
     "name": "stdout",
     "output_type": "stream",
     "text": [
      "['이것', '형태소', '분석기', '아버지가방에들어가']\n",
      "['이것', '은', '형태소', '분석기', '일', 'ㅂ니다', '아버지가방에들어가', '이', '시ㄴ다']\n",
      "[('이것', 'N'),\n",
      " ('은', 'J'),\n",
      " ('형태소', 'N'),\n",
      " ('분석기', 'N'),\n",
      " ('일', 'P'),\n",
      " ('ㅂ니다', 'E'),\n",
      " ('아버지가방에들어가', 'N'),\n",
      " ('이', 'J'),\n",
      " ('시ㄴ다', 'E')]\n"
     ]
    }
   ],
   "source": [
    "from konlpy.tag import Hannanum  \n",
    "hannanum = Hannanum() \n",
    "pprint(hannanum.nouns(sample))\n",
    "pprint(hannanum.morphs(sample))\n",
    "pprint(hannanum.pos(sample))"
   ]
  },
  {
   "cell_type": "code",
   "execution_count": 8,
   "metadata": {},
   "outputs": [
    {
     "name": "stdout",
     "output_type": "stream",
     "text": [
      "['이것', '형태소', '분석기', '아버지', '아버지가방', '가방']\n",
      "['이것', '은', '형태소', '분석기', '이', 'ㅂ니다', '아버지', '가방', '에', '들어가', '시', 'ㄴ다']\n",
      "[('이것', 'NP'),\n",
      " ('은', 'JX'),\n",
      " ('형태소', 'NNG'),\n",
      " ('분석기', 'NNG'),\n",
      " ('이', 'VCP'),\n",
      " ('ㅂ니다', 'EFN'),\n",
      " ('아버지', 'NNG'),\n",
      " ('가방', 'NNG'),\n",
      " ('에', 'JKM'),\n",
      " ('들어가', 'VV'),\n",
      " ('시', 'EPH'),\n",
      " ('ㄴ다', 'EFN')]\n"
     ]
    }
   ],
   "source": [
    "kkma = Kkma() \n",
    "pprint(kkma.nouns(sample))\n",
    "pprint(kkma.morphs(sample))\n",
    "pprint(kkma.pos(sample))"
   ]
  },
  {
   "cell_type": "code",
   "execution_count": 88,
   "metadata": {},
   "outputs": [
    {
     "name": "stdout",
     "output_type": "stream",
     "text": [
      "['것', '형태소', '분석', '기', '아버지', '가방']\n",
      "['이', '것', '은', '형태소', '분석', '기', '입니다', '아버지', '가방', '에', '들어가신다']\n",
      "[('이', 'Determiner'),\n",
      " ('것', 'Noun'),\n",
      " ('은', 'Josa'),\n",
      " ('형태소', 'Noun'),\n",
      " ('분석', 'Noun'),\n",
      " ('기', 'Noun'),\n",
      " ('입니다', 'Adjective'),\n",
      " ('아버지', 'Noun'),\n",
      " ('가방', 'Noun'),\n",
      " ('에', 'Josa'),\n",
      " ('들어가신다', 'Verb')]\n"
     ]
    }
   ],
   "source": [
    "from konlpy.tag import Okt                                  ## 다른 형태소를 클래스를 가져온다. \n",
    "okt = Okt()\n",
    "pprint(okt.nouns(sample))\n",
    "pprint(okt.morphs(sample))\n",
    "pprint(okt.pos(sample))"
   ]
  },
  {
   "cell_type": "code",
   "execution_count": 10,
   "metadata": {},
   "outputs": [
    {
     "name": "stdout",
     "output_type": "stream",
     "text": [
      "['형태소', '분석기', '아버지', '가방']\n",
      "['이것', '은', '형태소', '분석기', '이', 'ㅂ니다', '아버지', '가방', '에', '들어가', '시', 'ㄴ다']\n",
      "[('이것', 'NP'),\n",
      " ('은', 'JX'),\n",
      " ('형태소', 'NNP'),\n",
      " ('분석기', 'NNG'),\n",
      " ('이', 'VV'),\n",
      " ('ㅂ니다', 'EC'),\n",
      " ('아버지', 'NNG'),\n",
      " ('가방', 'NNP'),\n",
      " ('에', 'JKB'),\n",
      " ('들어가', 'VV'),\n",
      " ('시', 'EP'),\n",
      " ('ㄴ다', 'EC')]\n"
     ]
    }
   ],
   "source": [
    "from konlpy.tag import Komoran                    ## 다른 형태소 분석을 하는 클래스를 사용한다 \n",
    "komoran = Komoran()\n",
    "pprint(komoran.nouns(sample))\n",
    "pprint(komoran.morphs(sample))\n",
    "pprint(komoran.pos(sample))"
   ]
  },
  {
   "cell_type": "code",
   "execution_count": 11,
   "metadata": {},
   "outputs": [
    {
     "data": {
      "text/plain": [
       "{'E': '어미',\n",
       " 'EC': '연결 어미',\n",
       " 'EF': '종결 어미',\n",
       " 'EP': '선어말어미',\n",
       " 'ET': '전성 어미',\n",
       " 'F': '외국어',\n",
       " 'I': '독립언',\n",
       " 'II': '감탄사',\n",
       " 'J': '관계언',\n",
       " 'JC': '격조사',\n",
       " 'JP': '서술격 조사',\n",
       " 'JX': '보조사',\n",
       " 'M': '수식언',\n",
       " 'MA': '부사',\n",
       " 'MM': '관형사',\n",
       " 'N': '체언',\n",
       " 'NB': '의존명사',\n",
       " 'NC': '보통명사',\n",
       " 'NN': '수사',\n",
       " 'NP': '대명사',\n",
       " 'NQ': '고유명사',\n",
       " 'P': '용언',\n",
       " 'PA': '형용사',\n",
       " 'PV': '동사',\n",
       " 'PX': '보조 용언',\n",
       " 'S': '기호',\n",
       " 'X': '접사',\n",
       " 'XP': '접두사',\n",
       " 'XS': '접미사'}"
      ]
     },
     "execution_count": 11,
     "metadata": {},
     "output_type": "execute_result"
    }
   ],
   "source": [
    "hannanum.tagset"
   ]
  },
  {
   "cell_type": "code",
   "execution_count": 12,
   "metadata": {},
   "outputs": [
    {
     "data": {
      "text/plain": [
       "{'EC': '연결 어미',\n",
       " 'ECD': '의존적 연결 어미',\n",
       " 'ECE': '대등 연결 어미',\n",
       " 'ECS': '보조적 연결 어미',\n",
       " 'EF': '종결 어미',\n",
       " 'EFA': '청유형 종결 어미',\n",
       " 'EFI': '감탄형 종결 어미',\n",
       " 'EFN': '평서형 종결 어미',\n",
       " 'EFO': '명령형 종결 어미',\n",
       " 'EFQ': '의문형 종결 어미',\n",
       " 'EFR': '존칭형 종결 어미',\n",
       " 'EP': '선어말 어미',\n",
       " 'EPH': '존칭 선어말 어미',\n",
       " 'EPP': '공손 선어말 어미',\n",
       " 'EPT': '시제 선어말 어미',\n",
       " 'ET': '전성 어미',\n",
       " 'ETD': '관형형 전성 어미',\n",
       " 'ETN': '명사형 전성 어미',\n",
       " 'IC': '감탄사',\n",
       " 'JC': '접속 조사',\n",
       " 'JK': '조사',\n",
       " 'JKC': '보격 조사',\n",
       " 'JKG': '관형격 조사',\n",
       " 'JKI': '호격 조사',\n",
       " 'JKM': '부사격 조사',\n",
       " 'JKO': '목적격 조사',\n",
       " 'JKQ': '인용격 조사',\n",
       " 'JKS': '주격 조사',\n",
       " 'JX': '보조사',\n",
       " 'MA': '부사',\n",
       " 'MAC': '접속 부사',\n",
       " 'MAG': '일반 부사',\n",
       " 'MD': '관형사',\n",
       " 'MDN': '수 관형사',\n",
       " 'MDT': '일반 관형사',\n",
       " 'NN': '명사',\n",
       " 'NNB': '일반 의존 명사',\n",
       " 'NNG': '보통명사',\n",
       " 'NNM': '단위 의존 명사',\n",
       " 'NNP': '고유명사',\n",
       " 'NP': '대명사',\n",
       " 'NR': '수사',\n",
       " 'OH': '한자',\n",
       " 'OL': '외국어',\n",
       " 'ON': '숫자',\n",
       " 'SE': '줄임표',\n",
       " 'SF': '마침표, 물음표, 느낌표',\n",
       " 'SO': '붙임표(물결,숨김,빠짐)',\n",
       " 'SP': '쉼표,가운뎃점,콜론,빗금',\n",
       " 'SS': '따옴표,괄호표,줄표',\n",
       " 'SW': '기타기호 (논리수학기호,화폐기호)',\n",
       " 'UN': '명사추정범주',\n",
       " 'VA': '형용사',\n",
       " 'VC': '지정사',\n",
       " 'VCN': \"부정 지정사, 형용사 '아니다'\",\n",
       " 'VCP': \"긍정 지정사, 서술격 조사 '이다'\",\n",
       " 'VV': '동사',\n",
       " 'VX': '보조 용언',\n",
       " 'VXA': '보조 형용사',\n",
       " 'VXV': '보조 동사',\n",
       " 'XP': '접두사',\n",
       " 'XPN': '체언 접두사',\n",
       " 'XPV': '용언 접두사',\n",
       " 'XR': '어근',\n",
       " 'XSA': '형용사 파생 접미사',\n",
       " 'XSN': '명사파생 접미사',\n",
       " 'XSV': '동사 파생 접미사'}"
      ]
     },
     "execution_count": 12,
     "metadata": {},
     "output_type": "execute_result"
    }
   ],
   "source": [
    "kkma.tagset"
   ]
  },
  {
   "cell_type": "code",
   "execution_count": 13,
   "metadata": {},
   "outputs": [
    {
     "data": {
      "text/plain": [
       "{'Adjective': '형용사',\n",
       " 'Adverb': '부사',\n",
       " 'Alpha': '알파벳',\n",
       " 'Conjunction': '접속사',\n",
       " 'Determiner': '관형사',\n",
       " 'Eomi': '어미',\n",
       " 'Exclamation': '감탄사',\n",
       " 'Foreign': '외국어, 한자 및 기타기호',\n",
       " 'Hashtag': '트위터 해쉬태그',\n",
       " 'Josa': '조사',\n",
       " 'KoreanParticle': '(ex: ㅋㅋ)',\n",
       " 'Noun': '명사',\n",
       " 'Number': '숫자',\n",
       " 'PreEomi': '선어말어미',\n",
       " 'Punctuation': '구두점',\n",
       " 'ScreenName': '트위터 아이디',\n",
       " 'Suffix': '접미사',\n",
       " 'Unknown': '미등록어',\n",
       " 'Verb': '동사'}"
      ]
     },
     "execution_count": 13,
     "metadata": {},
     "output_type": "execute_result"
    }
   ],
   "source": [
    "okt.tagset"
   ]
  },
  {
   "cell_type": "code",
   "execution_count": 14,
   "metadata": {},
   "outputs": [
    {
     "data": {
      "text/plain": [
       "{'EC': '연결 어미',\n",
       " 'EF': '종결 어미',\n",
       " 'EP': '선어말어미',\n",
       " 'ETM': '관형형 전성 어미',\n",
       " 'ETN': '명사형 전성 어미',\n",
       " 'IC': '감탄사',\n",
       " 'JC': '접속 조사',\n",
       " 'JKB': '부사격 조사',\n",
       " 'JKC': '보격 조사',\n",
       " 'JKG': '관형격 조사',\n",
       " 'JKO': '목적격 조사',\n",
       " 'JKQ': '인용격 조사',\n",
       " 'JKS': '주격 조사',\n",
       " 'JKV': '호격 조사',\n",
       " 'JX': '보조사',\n",
       " 'MAG': '일반 부사',\n",
       " 'MAJ': '접속 부사',\n",
       " 'MM': '관형사',\n",
       " 'NA': '분석불능범주',\n",
       " 'NF': '명사추정범주',\n",
       " 'NNB': '의존 명사',\n",
       " 'NNG': '일반 명사',\n",
       " 'NNP': '고유 명사',\n",
       " 'NP': '대명사',\n",
       " 'NR': '수사',\n",
       " 'NV': '용언추정범주',\n",
       " 'SE': '줄임표',\n",
       " 'SF': '마침표, 물음표, 느낌표',\n",
       " 'SH': '한자',\n",
       " 'SL': '외국어',\n",
       " 'SN': '숫자',\n",
       " 'SO': '붙임표(물결,숨김,빠짐)',\n",
       " 'SP': '쉼표,가운뎃점,콜론,빗금',\n",
       " 'SS': '따옴표,괄호표,줄표',\n",
       " 'SW': '기타기호 (논리수학기호,화폐기호)',\n",
       " 'VA': '형용사',\n",
       " 'VCN': '부정 지정사',\n",
       " 'VCP': '긍정 지정사',\n",
       " 'VV': '동사',\n",
       " 'VX': '보조 용언',\n",
       " 'XPN': '체언 접두사',\n",
       " 'XR': '어근',\n",
       " 'XSA': '형용사 파생 접미사',\n",
       " 'XSN': '명사파생 접미사',\n",
       " 'XSV': '동사 파생 접미사'}"
      ]
     },
     "execution_count": 14,
     "metadata": {},
     "output_type": "execute_result"
    }
   ],
   "source": [
    "komoran.tagset"
   ]
  },
  {
   "cell_type": "code",
   "execution_count": 15,
   "metadata": {},
   "outputs": [],
   "source": [
    "tagsets = pd.DataFrame()                            ## 빈 데이터프레임을 만든다. \n",
    "N = 67\n",
    "\n",
    "                                                   ##  한글 형태소 분서기에 있는 품사에 대한 정보를 데이터프레임에 넣는다. \n",
    "tagsets[\"Hannanum-기호\"] = list(hannanum.tagset.keys()) + list(\"*\" * (N - len(hannanum.tagset)))\n",
    "tagsets[\"Hannanum-품사\"] = list(hannanum.tagset.values()) + list(\"*\" * (N - len(hannanum.tagset)))\n",
    "tagsets[\"Kkma-기호\"] = list(kkma.tagset.keys()) + list(\"*\" * (N - len(kkma.tagset)))\n",
    "tagsets[\"Kkma-품사\"] = list(kkma.tagset.values()) + list(\"*\" * (N - len(kkma.tagset)))\n",
    "tagsets[\"Komoran-기호\"] = list(komoran.tagset.keys()) + list(\"*\" * (N - len(komoran.tagset)))\n",
    "tagsets[\"Komoran-품사\"] = list(komoran.tagset.values()) + list(\"*\" * (N - len(komoran.tagset)))\n",
    "tagsets[\"OKT-기호\"] = list(okt.tagset.keys()) + list(\"*\" * (N - len(okt.tagset)))\n",
    "tagsets[\"OKT-품사\"] = list(okt.tagset.values()) + list(\"*\" * (N - len(okt.tagset)))"
   ]
  },
  {
   "cell_type": "code",
   "execution_count": 16,
   "metadata": {},
   "outputs": [
    {
     "data": {
      "text/html": [
       "<div>\n",
       "<style scoped>\n",
       "    .dataframe tbody tr th:only-of-type {\n",
       "        vertical-align: middle;\n",
       "    }\n",
       "\n",
       "    .dataframe tbody tr th {\n",
       "        vertical-align: top;\n",
       "    }\n",
       "\n",
       "    .dataframe thead th {\n",
       "        text-align: right;\n",
       "    }\n",
       "</style>\n",
       "<table border=\"1\" class=\"dataframe\">\n",
       "  <thead>\n",
       "    <tr style=\"text-align: right;\">\n",
       "      <th></th>\n",
       "      <th>Hannanum-기호</th>\n",
       "      <th>Hannanum-품사</th>\n",
       "      <th>Kkma-기호</th>\n",
       "      <th>Kkma-품사</th>\n",
       "      <th>Komoran-기호</th>\n",
       "      <th>Komoran-품사</th>\n",
       "      <th>OKT-기호</th>\n",
       "      <th>OKT-품사</th>\n",
       "    </tr>\n",
       "  </thead>\n",
       "  <tbody>\n",
       "    <tr>\n",
       "      <th>0</th>\n",
       "      <td>E</td>\n",
       "      <td>어미</td>\n",
       "      <td>EC</td>\n",
       "      <td>연결 어미</td>\n",
       "      <td>EC</td>\n",
       "      <td>연결 어미</td>\n",
       "      <td>Adjective</td>\n",
       "      <td>형용사</td>\n",
       "    </tr>\n",
       "    <tr>\n",
       "      <th>1</th>\n",
       "      <td>EC</td>\n",
       "      <td>연결 어미</td>\n",
       "      <td>ECD</td>\n",
       "      <td>의존적 연결 어미</td>\n",
       "      <td>EF</td>\n",
       "      <td>종결 어미</td>\n",
       "      <td>Adverb</td>\n",
       "      <td>부사</td>\n",
       "    </tr>\n",
       "    <tr>\n",
       "      <th>2</th>\n",
       "      <td>EF</td>\n",
       "      <td>종결 어미</td>\n",
       "      <td>ECE</td>\n",
       "      <td>대등 연결 어미</td>\n",
       "      <td>EP</td>\n",
       "      <td>선어말어미</td>\n",
       "      <td>Alpha</td>\n",
       "      <td>알파벳</td>\n",
       "    </tr>\n",
       "    <tr>\n",
       "      <th>3</th>\n",
       "      <td>EP</td>\n",
       "      <td>선어말어미</td>\n",
       "      <td>ECS</td>\n",
       "      <td>보조적 연결 어미</td>\n",
       "      <td>ETM</td>\n",
       "      <td>관형형 전성 어미</td>\n",
       "      <td>Conjunction</td>\n",
       "      <td>접속사</td>\n",
       "    </tr>\n",
       "    <tr>\n",
       "      <th>4</th>\n",
       "      <td>ET</td>\n",
       "      <td>전성 어미</td>\n",
       "      <td>EF</td>\n",
       "      <td>종결 어미</td>\n",
       "      <td>ETN</td>\n",
       "      <td>명사형 전성 어미</td>\n",
       "      <td>Determiner</td>\n",
       "      <td>관형사</td>\n",
       "    </tr>\n",
       "    <tr>\n",
       "      <th>...</th>\n",
       "      <td>...</td>\n",
       "      <td>...</td>\n",
       "      <td>...</td>\n",
       "      <td>...</td>\n",
       "      <td>...</td>\n",
       "      <td>...</td>\n",
       "      <td>...</td>\n",
       "      <td>...</td>\n",
       "    </tr>\n",
       "    <tr>\n",
       "      <th>62</th>\n",
       "      <td>*</td>\n",
       "      <td>*</td>\n",
       "      <td>XPV</td>\n",
       "      <td>용언 접두사</td>\n",
       "      <td>*</td>\n",
       "      <td>*</td>\n",
       "      <td>*</td>\n",
       "      <td>*</td>\n",
       "    </tr>\n",
       "    <tr>\n",
       "      <th>63</th>\n",
       "      <td>*</td>\n",
       "      <td>*</td>\n",
       "      <td>XR</td>\n",
       "      <td>어근</td>\n",
       "      <td>*</td>\n",
       "      <td>*</td>\n",
       "      <td>*</td>\n",
       "      <td>*</td>\n",
       "    </tr>\n",
       "    <tr>\n",
       "      <th>64</th>\n",
       "      <td>*</td>\n",
       "      <td>*</td>\n",
       "      <td>XSA</td>\n",
       "      <td>형용사 파생 접미사</td>\n",
       "      <td>*</td>\n",
       "      <td>*</td>\n",
       "      <td>*</td>\n",
       "      <td>*</td>\n",
       "    </tr>\n",
       "    <tr>\n",
       "      <th>65</th>\n",
       "      <td>*</td>\n",
       "      <td>*</td>\n",
       "      <td>XSN</td>\n",
       "      <td>명사파생 접미사</td>\n",
       "      <td>*</td>\n",
       "      <td>*</td>\n",
       "      <td>*</td>\n",
       "      <td>*</td>\n",
       "    </tr>\n",
       "    <tr>\n",
       "      <th>66</th>\n",
       "      <td>*</td>\n",
       "      <td>*</td>\n",
       "      <td>XSV</td>\n",
       "      <td>동사 파생 접미사</td>\n",
       "      <td>*</td>\n",
       "      <td>*</td>\n",
       "      <td>*</td>\n",
       "      <td>*</td>\n",
       "    </tr>\n",
       "  </tbody>\n",
       "</table>\n",
       "<p>67 rows × 8 columns</p>\n",
       "</div>"
      ],
      "text/plain": [
       "   Hannanum-기호 Hannanum-품사 Kkma-기호     Kkma-품사 Komoran-기호 Komoran-품사  \\\n",
       "0            E          어미      EC       연결 어미         EC      연결 어미   \n",
       "1           EC       연결 어미     ECD   의존적 연결 어미         EF      종결 어미   \n",
       "2           EF       종결 어미     ECE    대등 연결 어미         EP      선어말어미   \n",
       "3           EP       선어말어미     ECS   보조적 연결 어미        ETM  관형형 전성 어미   \n",
       "4           ET       전성 어미      EF       종결 어미        ETN  명사형 전성 어미   \n",
       "..         ...         ...     ...         ...        ...        ...   \n",
       "62           *           *     XPV      용언 접두사          *          *   \n",
       "63           *           *      XR          어근          *          *   \n",
       "64           *           *     XSA  형용사 파생 접미사          *          *   \n",
       "65           *           *     XSN    명사파생 접미사          *          *   \n",
       "66           *           *     XSV   동사 파생 접미사          *          *   \n",
       "\n",
       "         OKT-기호 OKT-품사  \n",
       "0     Adjective    형용사  \n",
       "1        Adverb     부사  \n",
       "2         Alpha    알파벳  \n",
       "3   Conjunction    접속사  \n",
       "4    Determiner    관형사  \n",
       "..          ...    ...  \n",
       "62            *      *  \n",
       "63            *      *  \n",
       "64            *      *  \n",
       "65            *      *  \n",
       "66            *      *  \n",
       "\n",
       "[67 rows x 8 columns]"
      ]
     },
     "metadata": {},
     "output_type": "display_data"
    }
   ],
   "source": [
    "display(tagsets.head(N))"
   ]
  },
  {
   "cell_type": "markdown",
   "metadata": {},
   "source": [
    "## 2. 워드 클라우드"
   ]
  },
  {
   "cell_type": "code",
   "execution_count": 36,
   "metadata": {},
   "outputs": [],
   "source": [
    "from matplotlib import font_manager, rc\n",
    "font_path = \"data/THEdog.ttf\"   #폰트파일의 위치\n",
    "font_name = font_manager.FontProperties(fname=font_path).get_name()\n",
    "rc('font', family=font_name)"
   ]
  },
  {
   "cell_type": "code",
   "execution_count": 37,
   "metadata": {},
   "outputs": [],
   "source": [
    "from wordcloud import WordCloud             ## 워드 클라우드 모듈을 사용한다 \n",
    "import matplotlib.pyplot as plt "
   ]
  },
  {
   "cell_type": "code",
   "execution_count": 38,
   "metadata": {},
   "outputs": [],
   "source": [
    "myfontpath = \"data/THEdog.ttf\" "
   ]
  },
  {
   "cell_type": "code",
   "execution_count": 39,
   "metadata": {},
   "outputs": [],
   "source": [
    "wordcloud = WordCloud(                        ## 워드클라우드 객체를 만들때 한글로 출력되도록 객체를 만든다 \n",
    "    font_path = myfontpath,\n",
    "    width = 800,\n",
    "    height = 800\n",
    ")"
   ]
  },
  {
   "cell_type": "code",
   "execution_count": 40,
   "metadata": {},
   "outputs": [],
   "source": [
    "text = \"둘리 도우너 또치 마이콜 희동이 둘리 둘리 도우너 또치 토토로 둘리\""
   ]
  },
  {
   "cell_type": "code",
   "execution_count": 41,
   "metadata": {},
   "outputs": [],
   "source": [
    "wordcloud = wordcloud.generate(text)                   "
   ]
  },
  {
   "cell_type": "code",
   "execution_count": 42,
   "metadata": {},
   "outputs": [
    {
     "data": {
      "image/png": "[encoded data removed]",
      "text/plain": [
       "<Figure size 432x288 with 1 Axes>"
      ]
     },
     "metadata": {
      "needs_background": "light"
     },
     "output_type": "display_data"
    }
   ],
   "source": [
    "fig = plt.figure()\n",
    "plt.imshow(wordcloud, interpolation='bilinear')               ## 워드 클라우드 이미지로 출력한다 \n",
    "plt.axis('off')\n",
    "plt.show()"
   ]
  },
  {
   "cell_type": "code",
   "execution_count": 43,
   "metadata": {},
   "outputs": [
    {
     "data": {
      "image/png": "[encoded data removed]",
      "text/plain": [
       "<Figure size 432x288 with 1 Axes>"
      ]
     },
     "metadata": {
      "needs_background": "light"
     },
     "output_type": "display_data"
    }
   ],
   "source": [
    "wordcloud = WordCloud(\n",
    "    font_path = myfontpath,\n",
    "    background_color='white',                     ## 배경색을 지정한다 \n",
    "    width = 800,\n",
    "    height = 800\n",
    ")\n",
    "wordcloud_ = wordcloud.generate(text)\n",
    "fig = plt.figure()\n",
    "plt.imshow(wordcloud, interpolation='bilinear')\n",
    "plt.axis('off')\n",
    "plt.show()"
   ]
  },
  {
   "cell_type": "code",
   "execution_count": 44,
   "metadata": {},
   "outputs": [
    {
     "data": {
      "image/png": "[encoded data removed]",
      "text/plain": [
       "<Figure size 432x288 with 1 Axes>"
      ]
     },
     "metadata": {
      "needs_background": "light"
     },
     "output_type": "display_data"
    }
   ],
   "source": [
    "keywords = {'파이썬':7, '넘파이':3, '판다스':5, '매트플롭립':2, '시본':2, '폴리엄':2}             ## 특정 단어의 빈도를 딕셔너리로 만든다 \n",
    "\n",
    "wordcloud = wordcloud.generate_from_frequencies(keywords)        ## 빈도별로 워드클라우드를 만든다 \n",
    "\n",
    "fig = plt.figure()\n",
    "plt.imshow(wordcloud, interpolation='bilinear')\n",
    "plt.axis('off')\n",
    "plt.show()"
   ]
  },
  {
   "cell_type": "code",
   "execution_count": 45,
   "metadata": {},
   "outputs": [],
   "source": [
    "from PIL import Image                                ## 이미지 파일을 처리하는 모듈을 사용한다. "
   ]
  },
  {
   "cell_type": "code",
   "execution_count": 77,
   "metadata": {},
   "outputs": [],
   "source": [
    "r2d2_mask = np.array(Image.open('data/r2d2.JPG'))       ## 이미지를 읽어와서 다차원 배열로 변환한다 "
   ]
  },
  {
   "cell_type": "code",
   "execution_count": 78,
   "metadata": {},
   "outputs": [],
   "source": [
    "from wordcloud import STOPWORDS  "
   ]
  },
  {
   "cell_type": "code",
   "execution_count": 79,
   "metadata": {},
   "outputs": [],
   "source": [
    "stopwords = set()                               ## 한글은 별도로 집합으로 불용어를 만든다 \n",
    "stopwords.add(\"은\")\n",
    "stopwords.add(\"입니다\")\n",
    "stopwords.add(\"것인가\")\n",
    "stopwords.add(\"처럼\")\n",
    "\n",
    "wordcloud = WordCloud( stopwords=stopwords,              ## 워드 클라우드 객체를 만든다 \n",
    "                          font_path = myfontpath,\n",
    "                          background_color='white',\n",
    "                           width = 800,\n",
    "                           height = 800,\n",
    "                          mask=r2d2_mask)            ## 마스크 인자에 이미지를 전달한다 "
   ]
  },
  {
   "cell_type": "code",
   "execution_count": 84,
   "metadata": {},
   "outputs": [],
   "source": [
    "texts = ['로봇 처럼 표시하는 것을 보기 위해 이것 은 예문 입니다 가을이라 겨울 바람 솔솔 불어오니 ',\n",
    "         '여러분 의 문장을 넣 으세요 ㅎㅎㅎ 스타워즈 영화에 나오는 다양한 로봇처럼 r2d2']"
   ]
  },
  {
   "cell_type": "code",
   "execution_count": 85,
   "metadata": {},
   "outputs": [
    {
     "data": {
      "text/plain": [
       "<wordcloud.wordcloud.WordCloud at 0x19df9f82d88>"
      ]
     },
     "execution_count": 85,
     "metadata": {},
     "output_type": "execute_result"
    }
   ],
   "source": [
    "wordcloud = wordcloud.generate_from_text(texts[0]+texts[1])    ## 두 개의 문자을 연결해서 워드클라우드를 만든다 \n",
    "wordcloud"
   ]
  },
  {
   "cell_type": "code",
   "execution_count": 86,
   "metadata": {},
   "outputs": [
    {
     "data": {
      "text/plain": [
       "<wordcloud.wordcloud.WordCloud at 0x19df9f82d88>"
      ]
     },
     "execution_count": 86,
     "metadata": {},
     "output_type": "execute_result"
    }
   ],
   "source": [
    "wordcloud.to_file('ptest3.png')"
   ]
  },
  {
   "cell_type": "code",
   "execution_count": 87,
   "metadata": {},
   "outputs": [
    {
     "data": {
      "image/png": "[encoded data removed]",
      "text/plain": [
       "<Figure size 576x576 with 1 Axes>"
      ]
     },
     "metadata": {
      "needs_background": "light"
     },
     "output_type": "display_data"
    }
   ],
   "source": [
    "plt.figure(figsize=(8,8))\n",
    "plt.imshow(wordcloud, interpolation=\"bilinear\")         ## 이미지를 출력하면 전달된 모양에 따라 표시한다 \n",
    "plt.axis(\"off\")\n",
    "plt.show()"
   ]
  },
  {
   "cell_type": "markdown",
   "metadata": {},
   "source": [
    "## 3. 한국어 기반의 자연어 처리 모듈 : nltk"
   ]
  },
  {
   "cell_type": "code",
   "execution_count": 52,
   "metadata": {},
   "outputs": [],
   "source": [
    "import nltk                     ## 한국어 자연어처리 모듈 : pip install nltk"
   ]
  },
  {
   "cell_type": "code",
   "execution_count": 53,
   "metadata": {},
   "outputs": [],
   "source": [
    "from konlpy.corpus import kobill\n",
    "files_ko = kobill.fileids()"
   ]
  },
  {
   "cell_type": "code",
   "execution_count": 54,
   "metadata": {},
   "outputs": [
    {
     "data": {
      "text/plain": [
       "['1809890.txt',\n",
       " '1809891.txt',\n",
       " '1809892.txt',\n",
       " '1809893.txt',\n",
       " '1809894.txt',\n",
       " '1809895.txt',\n",
       " '1809896.txt',\n",
       " '1809897.txt',\n",
       " '1809898.txt',\n",
       " '1809899.txt']"
      ]
     },
     "execution_count": 54,
     "metadata": {},
     "output_type": "execute_result"
    }
   ],
   "source": [
    "files_ko"
   ]
  },
  {
   "cell_type": "code",
   "execution_count": 55,
   "metadata": {},
   "outputs": [],
   "source": [
    "doc_ko = kobill.open('1809898.txt').read()         ## 특정 텍스트 파일을 읽어온다 "
   ]
  },
  {
   "cell_type": "code",
   "execution_count": null,
   "metadata": {},
   "outputs": [],
   "source": [
    "print(doc_ko)"
   ]
  },
  {
   "cell_type": "code",
   "execution_count": 90,
   "metadata": {},
   "outputs": [
    {
     "name": "stdout",
     "output_type": "stream",
     "text": [
      "['국군', '부대', '소말리아', '해역', '파견', '연장', '의안', '의안', '제출', '연월일']\n"
     ]
    }
   ],
   "source": [
    "t = Okt()\n",
    "tokens_ko = t.nouns(doc_ko)                ## 텍스트에서 명사를 추출한다. \n",
    "print(tokens_ko[:10])"
   ]
  },
  {
   "cell_type": "code",
   "execution_count": 57,
   "metadata": {},
   "outputs": [],
   "source": [
    "ko_ = nltk.Text(tokens_ko, name='국군부대의 소말리아 해역 파견연장 동의안')       ## 명사로 추출한 것을 텍스트 객체로 만든다 "
   ]
  },
  {
   "cell_type": "code",
   "execution_count": 58,
   "metadata": {},
   "outputs": [
    {
     "data": {
      "text/plain": [
       "nltk.text.Text"
      ]
     },
     "execution_count": 58,
     "metadata": {},
     "output_type": "execute_result"
    }
   ],
   "source": [
    "type(ko_)"
   ]
  },
  {
   "cell_type": "code",
   "execution_count": 59,
   "metadata": {},
   "outputs": [
    {
     "data": {
      "text/plain": [
       "640"
      ]
     },
     "execution_count": 59,
     "metadata": {},
     "output_type": "execute_result"
    }
   ],
   "source": [
    "len(ko_.tokens)                         ##  명사로 분리된 개수를 확인한다 "
   ]
  },
  {
   "cell_type": "code",
   "execution_count": 60,
   "metadata": {},
   "outputs": [
    {
     "data": {
      "text/plain": [
       "249"
      ]
     },
     "execution_count": 60,
     "metadata": {},
     "output_type": "execute_result"
    }
   ],
   "source": [
    "len(set(ko_.tokens))                   ## 유일한 단어의 개수를 확인한다 "
   ]
  },
  {
   "cell_type": "code",
   "execution_count": 61,
   "metadata": {},
   "outputs": [
    {
     "data": {
      "text/plain": [
       "['국군', '부대', '소말리아', '해역', '파견', '연장', '의안', '의안', '제출', '연월일']"
      ]
     },
     "execution_count": 61,
     "metadata": {},
     "output_type": "execute_result"
    }
   ],
   "source": [
    "ko_.tokens[:10]"
   ]
  },
  {
   "cell_type": "code",
   "execution_count": 62,
   "metadata": {},
   "outputs": [
    {
     "data": {
      "text/plain": [
       "FreqDist({'파견': 31, '부대': 24, '소말리아': 18, '연장': 14, '국군': 13, '해역': 12, '의안': 11, '우리': 9, '유엔': 9, '척': 9, ...})"
      ]
     },
     "execution_count": 62,
     "metadata": {},
     "output_type": "execute_result"
    }
   ],
   "source": [
    "ko_.vocab()                    ## 동일한 단어의 발생 빈도를 확인한다. "
   ]
  },
  {
   "cell_type": "code",
   "execution_count": 63,
   "metadata": {},
   "outputs": [],
   "source": [
    "import matplotlib.pyplot as plt"
   ]
  },
  {
   "cell_type": "code",
   "execution_count": 64,
   "metadata": {},
   "outputs": [],
   "source": [
    "from matplotlib import font_manager, rc\n",
    "font_path = \"data/THEdog.ttf\"   #폰트파일의 위치\n",
    "font_name = font_manager.FontProperties(fname=font_path).get_name()\n",
    "rc('font', family=font_name)"
   ]
  },
  {
   "cell_type": "code",
   "execution_count": 65,
   "metadata": {},
   "outputs": [
    {
     "data": {
      "image/png": "[encoded data removed]",
      "text/plain": [
       "<Figure size 864x432 with 1 Axes>"
      ]
     },
     "metadata": {
      "needs_background": "light"
     },
     "output_type": "display_data"
    }
   ],
   "source": [
    "plt.figure(figsize=(12,6))\n",
    "ko_.plot(50)                         ## 단어별로 발생빈도에 맞도록 그래프를 그린다. "
   ]
  },
  {
   "cell_type": "code",
   "execution_count": 66,
   "metadata": {},
   "outputs": [
    {
     "data": {
      "text/plain": [
       "31"
      ]
     },
     "execution_count": 66,
     "metadata": {},
     "output_type": "execute_result"
    }
   ],
   "source": [
    "ko_.count('파견')                  ## 특정 단어의 발생빈도를 확인한다. "
   ]
  },
  {
   "cell_type": "code",
   "execution_count": 67,
   "metadata": {},
   "outputs": [
    {
     "data": {
      "text/plain": [
       "18"
      ]
     },
     "execution_count": 67,
     "metadata": {},
     "output_type": "execute_result"
    }
   ],
   "source": [
    "ko_.count('소말리아')"
   ]
  },
  {
   "cell_type": "code",
   "execution_count": 68,
   "metadata": {},
   "outputs": [
    {
     "name": "stdout",
     "output_type": "stream",
     "text": [
      "Displaying 18 of 18 matches:\n",
      "국군 부대 소말리아 해역 파견 연장 의안 의안 제출 연월일 번호 제 자 정 부 제안 \n",
      " 파견 연장 의안 의안 제출 연월일 번호 제 자 정 부 제안 이유 소말리아 아덴만 해역 파견 국군 부대 청해부대 의 파견 기간 종료 예정 다\n",
      "부대 의 파견 기간 종료 예정 다음 이유 파견 기간 연장 함 첫째 소말리아 해적 활동 우리 선박 안전 위협 둘째 청해부대 성공 임무 수행 우\n",
      "여 국내외 관계 기관 파견 연장 요청 내용 유엔 안보리 결의 근거 소말리아 아덴만 해역 파견 국군 부대 파견 기간 장함 나 국군 부대 임무 \n",
      "심의 과정 반영 추진 합 의 기획재정부 외교통상부 합의 국군 부대 소말리아 해역 파견 연장 의안 헌법 제 항의 규정 소말리아 아덴만 해역 파\n",
      "합의 국군 부대 소말리아 해역 파견 연장 의안 헌법 제 항의 규정 소말리아 아덴만 해역 파견 국군 부대 파견 기간 연장 동의 국군 부대 파견\n",
      " 방지 및 지원 차단 위 협력 국 협력 촉구 유엔 안보리 결의 호 소말리아 과도정부 출범 이후 무 정부 상태 지속 부터 소말리아 해역 해적 \n",
      "리 결의 호 소말리아 과도정부 출범 이후 무 정부 상태 지속 부터 소말리아 해역 해적 활동 급증 선박 피랍 척 척 척 척 척 유엔 소말리아 \n",
      " 소말리아 해역 해적 활동 급증 선박 피랍 척 척 척 척 척 유엔 소말리아 해적 퇴치 위해 회원 국 군함 및 항공기 참여 요청 유엔 안보리 \n",
      " 합동 실 사단 파견 바레인 지부티 유엔 외국 정부 및 지역 기구 소말리아 영해 진입 연장 유엔안보리 결의 호 유엔 소말리아 해적 퇴치 위해\n",
      " 및 지역 기구 소말리아 영해 진입 연장 유엔안보리 결의 호 유엔 소말리아 해적 퇴치 위해 소말리아 내 모든 조치 취할 수 승인 유엔 안보리\n",
      "영해 진입 연장 유엔안보리 결의 호 유엔 소말리아 해적 퇴치 위해 소말리아 내 모든 조치 취할 수 승인 유엔 안보리 결의 호 파견 의안 국회\n",
      "회 가결 부대 파견 파견 연장 의안 국회 가결 국무회의 국군 부대 소말리아 해역 파견 연장 의안 심의 의결 기본 계획 파견 부대 규모 전력 \n",
      "축함 톤 척 헬기 고속 단정 척 탑재 인원 명 이내 나 파견 지역 소말리아 아덴만 해역 일대 임 무 국제 해상 안전 테러 대응 위 국제 노력\n",
      " 국회 동의 후 예산안 대한 국회 심의 과정 반영 추진 국군 부대 소말리아 해역 파견 연장 의안 비용 추계 비용 추계 요약 재정 요인 부대 \n",
      "부대 파견 경비 우리 정부 부담 함 나 비용 추계 전제 국군 부대 소말리아 해역 파견 연장 의안 파견 연장 기간 부터 파견 부대 규모 전력 \n",
      " 비 장비 물자 획득 기타 부대 운영 비 나 수 입 계 국군 부대 소말리아 해역 파견 연장 의안 재원 조달 계획 부문 별 재원 분담 계획 단\n",
      " 단체 민 간 합 계 재원 조달 구체 방안 이후 합 계 국군 부대 소말리아 해역 파견 연장 의안 예산 정부 예산 지출 예정 임 부대 의견 협\n"
     ]
    }
   ],
   "source": [
    "ko_.concordance('소말리아')             ## 특정 단어가 있는 곳은 단어를 확인한다. "
   ]
  },
  {
   "cell_type": "code",
   "execution_count": 69,
   "metadata": {},
   "outputs": [],
   "source": [
    "data = ko_.vocab().most_common(150)                 ## 가장 많이 발생한 단어를 선택한다. "
   ]
  },
  {
   "cell_type": "code",
   "execution_count": 70,
   "metadata": {},
   "outputs": [
    {
     "data": {
      "text/plain": [
       "[('파견', 31),\n",
       " ('부대', 24),\n",
       " ('소말리아', 18),\n",
       " ('연장', 14),\n",
       " ('국군', 13),\n",
       " ('해역', 12),\n",
       " ('의안', 11),\n",
       " ('우리', 9),\n",
       " ('유엔', 9),\n",
       " ('척', 9),\n",
       " ('선박', 7),\n",
       " ('나', 7),\n",
       " ('국회', 7),\n",
       " ('국제', 7),\n",
       " ('비용', 7),\n",
       " ('계', 7),\n",
       " ('비', 7),\n",
       " ('제', 6),\n",
       " ('기간', 6),\n",
       " ('함', 6),\n",
       " ('및', 6),\n",
       " ('결의', 6),\n",
       " ('정부', 6),\n",
       " ('예산', 6),\n",
       " ('활동', 5),\n",
       " ('안보리', 5),\n",
       " ('작전', 5),\n",
       " ('참여', 5),\n",
       " ('협력', 5),\n",
       " ('추계', 5),\n",
       " ('아덴만', 4),\n",
       " ('해적', 4),\n",
       " ('연합', 4),\n",
       " ('해양', 4),\n",
       " ('안보', 4),\n",
       " ('지원', 4),\n",
       " ('한국', 4),\n",
       " ('통제', 4),\n",
       " ('동의', 4),\n",
       " ('합', 4),\n",
       " ('호', 4),\n",
       " ('백만원', 4),\n",
       " ('작성자', 4),\n",
       " ('안전', 3),\n",
       " ('임무', 3),\n",
       " ('해군', 3),\n",
       " ('사의', 3),\n",
       " ('지휘', 3),\n",
       " ('간', 3),\n",
       " ('현지', 3),\n",
       " ('조치', 3),\n",
       " ('심의', 3),\n",
       " ('테러', 3),\n",
       " ('위', 3),\n",
       " ('이후', 3),\n",
       " ('위해', 3),\n",
       " ('수', 3),\n",
       " ('계획', 3),\n",
       " ('단위', 3),\n",
       " ('연', 3),\n",
       " ('구', 3),\n",
       " ('분', 3),\n",
       " ('국방부', 3),\n",
       " ('평화', 3),\n",
       " ('재원', 3),\n",
       " ('이유', 2),\n",
       " ('청해부대', 2),\n",
       " ('의', 2),\n",
       " ('예정', 2),\n",
       " ('요청', 2),\n",
       " ('근거', 2),\n",
       " ('보유', 2),\n",
       " ('호송', 2),\n",
       " ('운용', 2),\n",
       " ('경우', 2),\n",
       " ('사령관', 2),\n",
       " ('전술', 2),\n",
       " ('경비', 2),\n",
       " ('부담', 2),\n",
       " ('사항', 2),\n",
       " ('헌법', 2),\n",
       " ('항', 2),\n",
       " ('후', 2),\n",
       " ('예산안', 2),\n",
       " ('대한', 2),\n",
       " ('과정', 2),\n",
       " ('반영', 2),\n",
       " ('추진', 2),\n",
       " ('기획재정부', 2),\n",
       " ('목적', 2),\n",
       " ('경과', 2),\n",
       " ('해상', 2),\n",
       " ('대응', 2),\n",
       " ('노력', 2),\n",
       " ('동참', 2),\n",
       " ('국', 2),\n",
       " ('무', 2),\n",
       " ('부터', 2),\n",
       " ('퇴치', 2),\n",
       " ('실', 2),\n",
       " ('지역', 2),\n",
       " ('가결', 2),\n",
       " ('규모', 2),\n",
       " ('전력', 2),\n",
       " ('구축함', 2),\n",
       " ('톤', 2),\n",
       " ('헬기', 2),\n",
       " ('고속', 2),\n",
       " ('단정', 2),\n",
       " ('탑재', 2),\n",
       " ('인원', 2),\n",
       " ('명', 2),\n",
       " ('이내', 2),\n",
       " ('임', 2),\n",
       " ('마', 2),\n",
       " ('함정', 2),\n",
       " ('교대', 2),\n",
       " ('소요', 2),\n",
       " ('결과', 2),\n",
       " ('도', 2),\n",
       " ('소', 2),\n",
       " ('입', 2),\n",
       " ('의견', 2),\n",
       " ('이름', 2),\n",
       " ('과장', 2),\n",
       " ('대령', 2),\n",
       " ('유재', 2),\n",
       " ('익', 2),\n",
       " ('연락처', 2),\n",
       " ('운영', 2),\n",
       " ('조달', 2),\n",
       " ('협의', 2),\n",
       " ('제출', 1),\n",
       " ('연월일', 1),\n",
       " ('번호', 1),\n",
       " ('자', 1),\n",
       " ('정', 1),\n",
       " ('부', 1),\n",
       " ('제안', 1),\n",
       " ('종료', 1),\n",
       " ('다음', 1),\n",
       " ('첫째', 1),\n",
       " ('위협', 1),\n",
       " ('둘째', 1),\n",
       " ('성공', 1),\n",
       " ('수행', 1),\n",
       " ('국익', 1),\n",
       " ('보호', 1),\n",
       " ('국위', 1),\n",
       " ('선양', 1)]"
      ]
     },
     "execution_count": 70,
     "metadata": {},
     "output_type": "execute_result"
    }
   ],
   "source": [
    "data"
   ]
  },
  {
   "cell_type": "code",
   "execution_count": 71,
   "metadata": {},
   "outputs": [
    {
     "data": {
      "image/png": "[encoded data removed]",
      "text/plain": [
       "<Figure size 720x432 with 1 Axes>"
      ]
     },
     "metadata": {
      "needs_background": "light"
     },
     "output_type": "display_data"
    }
   ],
   "source": [
    "wordcloud = WordCloud(font_path=myfontpath,                                    ## .한글에 대한 위치를 표시한다. \n",
    "                      relative_scaling = 0.2,\n",
    "                      background_color='white',\n",
    "                      ).generate_from_frequencies(dict(data))             ## .단어별 빈도수를 딕셔너리로 변환해서 전달한다 \n",
    "plt.figure(figsize=(10,6))\n",
    "plt.imshow(wordcloud)                                                      ## .이미지를 출력한다 \n",
    "plt.axis(\"off\")                                                            ## 그래프에 대한 축을 표시하지 않는다 \n",
    "plt.show()"
   ]
  },
  {
   "cell_type": "markdown",
   "metadata": {},
   "source": [
    "## 4. 텍스트 전처리"
   ]
  },
  {
   "cell_type": "markdown",
   "metadata": {},
   "source": [
    "### ** 한국어 전처리 패키지 : PyKoSpacing & Py-Hanspell **\n",
    "#### 전희원님이 개발한 PyKoSpacing은 한국어 띄어쓰기 패키지로 띄어쓰기가 되어있지 않은 문장을 띄어쓰기를 한 문장으로 변환해주는 패키지이다. PyKoSpacing은 대용량 코퍼스를 학습하여 만들어진 띄어쓰기 딥 러닝 모델로 준수한 성능을 가지고 있다.\n",
    "\n",
    "##### pip install git+https://github.com/haven-jeon/PyKoSpacing.git\n",
    "##### pip install git+https://github.com/ssut/py-hanspell.git"
   ]
  },
  {
   "cell_type": "code",
   "execution_count": 91,
   "metadata": {},
   "outputs": [],
   "source": [
    "sent = '김철수는 극중 두 인격의 사나이 이광수 역을 맡았다. 철수는 한국 유일의 태권도 전승자를 가리는 결전의 날을 앞두고 10년간 함께 훈련한 사형인 유연재(김광수 분)를 찾으러 속세로 내려온 인물이다.'"
   ]
  },
  {
   "cell_type": "code",
   "execution_count": 92,
   "metadata": {},
   "outputs": [
    {
     "name": "stdout",
     "output_type": "stream",
     "text": [
      "김철수는극중두인격의사나이이광수역을맡았다.철수는한국유일의태권도전승자를가리는결전의날을앞두고10년간함께훈련한사형인유연재(김광수분)를찾으러속세로내려온인물이다.\n"
     ]
    }
   ],
   "source": [
    "new_sent = sent.replace(\" \", '') # 띄어쓰기가 없는 문장 임의로 만들기\n",
    "print(new_sent)"
   ]
  },
  {
   "cell_type": "code",
   "execution_count": 93,
   "metadata": {},
   "outputs": [
    {
     "name": "stdout",
     "output_type": "stream",
     "text": [
      "김철수는 극중 두 인격의 사나이 이광수 역을 맡았다. 철수는 한국 유일의 태권도 전승자를 가리는 결전의 날을 앞두고 10년간 함께 훈련한 사형인 유연재(김광수 분)를 찾으러 속세로 내려온 인물이다.\n",
      "김철수는 극중 두 인격의 사나이 이광수 역을 맡았다. 철수는 한국 유일의 태권도 전승자를 가리는 결전의 날을 앞두고 10년간 함께 훈련한 사형인 유연재(김광수 분)를 찾으러 속세로 내려온 인물이다.\n"
     ]
    }
   ],
   "source": [
    "from pykospacing import spacing\n",
    "\n",
    "kospacing_sent = spacing(new_sent)\n",
    "print(sent)\n",
    "print(kospacing_sent)"
   ]
  },
  {
   "cell_type": "code",
   "execution_count": 94,
   "metadata": {},
   "outputs": [
    {
     "name": "stdout",
     "output_type": "stream",
     "text": [
      "맞춤법 틀리면 왜 안돼? 쓰고 싶은 대로 쓰면 되지\n"
     ]
    }
   ],
   "source": [
    "from hanspell import spell_checker\n",
    "\n",
    "sent = \"맞춤법 틀리면 외 않되? 쓰고싶은대로쓰면돼지 \"\n",
    "spelled_sent = spell_checker.check(sent)\n",
    "\n",
    "hanspell_sent = spelled_sent.checked\n",
    "print(hanspell_sent)"
   ]
  },
  {
   "cell_type": "code",
   "execution_count": 95,
   "metadata": {},
   "outputs": [
    {
     "name": "stdout",
     "output_type": "stream",
     "text": [
      "김철수는 극 중 두 인격의 사나이 이광수 역을 맡았다. 철수는 한국 유일의 태권도 전승자를 가리는 결전의 날을 앞두고 10년간 함께 훈련한 사형인 유연제(김광수 분)를 찾으러 속세로 내려온 인물이다.\n",
      "김철수는 극중 두 인격의 사나이 이광수 역을 맡았다. 철수는 한국 유일의 태권도 전승자를 가리는 결전의 날을 앞두고 10년간 함께 훈련한 사형인 유연재(김광수 분)를 찾으러 속세로 내려온 인물이다.\n"
     ]
    }
   ],
   "source": [
    "spelled_sent = spell_checker.check(new_sent)\n",
    "\n",
    "hanspell_sent = spelled_sent.checked\n",
    "print(hanspell_sent)\n",
    "print(kospacing_sent) "
   ]
  },
  {
   "cell_type": "markdown",
   "metadata": {},
   "source": [
    "### **Bag of Words(BoW) 만들기**\n",
    "#### Bag of Words란 단어들의 순서는 전혀 고려하지 않고, 단어들의 출현 빈도(frequency)에만 집중하는 텍스트 데이터의 수치화 표현 방법이다."
   ]
  },
  {
   "cell_type": "code",
   "execution_count": 96,
   "metadata": {},
   "outputs": [
    {
     "name": "stdout",
     "output_type": "stream",
     "text": [
      "['정부', '가', '발표', '하는', '물가상승률', '과', '소비자', '가', '느끼는', '물가상승률', '은', '다르다']\n",
      "{'정부': 0, '가': 1, '발표': 2, '하는': 3, '물가상승률': 4, '과': 5, '소비자': 6, '느끼는': 7, '은': 8, '다르다': 9}\n"
     ]
    }
   ],
   "source": [
    "from konlpy.tag import Okt\n",
    "import re  \n",
    "okt=Okt()  \n",
    "\n",
    "token=re.sub(\"(\\.)\",\"\",\"정부가 발표하는 물가상승률과 소비자가 느끼는 물가상승률은 다르다.\")  \n",
    "# 정규 표현식을 통해 온점을 제거하는 정제 작업입니다.  \n",
    "token=okt.morphs(token)  \n",
    "# OKT 형태소 분석기를 통해 토큰화 작업을 수행한 뒤에, token에다가 넣습니다.  \n",
    "print(token)\n",
    "word2index={}  \n",
    "bow=[]  \n",
    "for voca in token:  \n",
    "         if voca not in word2index.keys():  \n",
    "             word2index[voca]=len(word2index)  \n",
    "# token을 읽으면서, word2index에 없는 (not in) 단어는 새로 추가하고, 이미 있는 단어는 넘깁니다.   \n",
    "             bow.insert(len(word2index)-1,1)\n",
    "# BoW 전체에 전부 기본값 1을 넣어줍니다. 단어의 개수는 최소 1개 이상이기 때문입니다.  \n",
    "         else:\n",
    "            index=word2index.get(voca)\n",
    "# 재등장하는 단어의 인덱스를 받아옵니다.\n",
    "            bow[index]=bow[index]+1\n",
    "# 재등장한 단어는 해당하는 인덱스의 위치에 1을 더해줍니다. (단어의 개수를 세는 것입니다.)  \n",
    "print(word2index)  "
   ]
  },
  {
   "cell_type": "code",
   "execution_count": 97,
   "metadata": {},
   "outputs": [
    {
     "data": {
      "text/plain": [
       "['정부', '가', '발표', '하는', '물가상승률', '과', '소비자', '가', '느끼는', '물가상승률', '은', '다르다']"
      ]
     },
     "execution_count": 97,
     "metadata": {},
     "output_type": "execute_result"
    }
   ],
   "source": [
    "token"
   ]
  },
  {
   "cell_type": "code",
   "execution_count": 98,
   "metadata": {},
   "outputs": [
    {
     "name": "stdout",
     "output_type": "stream",
     "text": [
      "[[1 1 1 1 1 1 1]]\n",
      "{'정부가': 6, '발표하는': 4, '물가상승률과': 2, '소비자가': 5, '느끼는': 0, '물가상승률은': 3, '다르다': 1}\n"
     ]
    }
   ],
   "source": [
    "from sklearn.feature_extraction.text import CountVectorizer\n",
    "token = [\"정부가 발표하는 물가상승률과 소비자가 느끼는 물가상승률은 다르다\"]\n",
    "corpus = token\n",
    "vector = CountVectorizer()\n",
    "print(vector.fit_transform(corpus).toarray()) # 코퍼스로부터 각 단어의 빈도 수를 기록한다.\n",
    "print(vector.vocabulary_)"
   ]
  },
  {
   "cell_type": "markdown",
   "metadata": {},
   "source": [
    "## 5. 카운트 기반의 단어 표현"
   ]
  },
  {
   "cell_type": "code",
   "execution_count": 99,
   "metadata": {},
   "outputs": [],
   "source": [
    "import pandas as pd # 데이터프레임 사용을 위해\n",
    "from math import log # IDF 계산을 위해"
   ]
  },
  {
   "cell_type": "code",
   "execution_count": 100,
   "metadata": {},
   "outputs": [
    {
     "name": "stdout",
     "output_type": "stream",
     "text": [
      "['과일이', '길고', '노란', '먹고', '바나나', '사과', '싶은', '저는', '좋아요']\n"
     ]
    }
   ],
   "source": [
    "docs = [\n",
    "  '먹고 싶은 사과',\n",
    "  '먹고 싶은 바나나',\n",
    "  '길고 노란 바나나 바나나',\n",
    "  '저는 과일이 좋아요'\n",
    "] \n",
    "vocab = list(set(w for doc in docs for w in doc.split()))\n",
    "vocab.sort()\n",
    "print(vocab)"
   ]
  },
  {
   "cell_type": "code",
   "execution_count": 101,
   "metadata": {},
   "outputs": [],
   "source": [
    "N = len(docs) # 총 문서의 수\n",
    "\n",
    "def tf(t, d):\n",
    "    return d.count(t)\n",
    "\n",
    "def idf(t):\n",
    "    df = 0\n",
    "    for doc in docs:\n",
    "        df += t in doc\n",
    "    return log(N/(df + 1))\n",
    "\n",
    "def tfidf(t, d):\n",
    "    return tf(t,d)* idf(t)"
   ]
  },
  {
   "cell_type": "code",
   "execution_count": 102,
   "metadata": {},
   "outputs": [
    {
     "data": {
      "text/html": [
       "<div>\n",
       "<style scoped>\n",
       "    .dataframe tbody tr th:only-of-type {\n",
       "        vertical-align: middle;\n",
       "    }\n",
       "\n",
       "    .dataframe tbody tr th {\n",
       "        vertical-align: top;\n",
       "    }\n",
       "\n",
       "    .dataframe thead th {\n",
       "        text-align: right;\n",
       "    }\n",
       "</style>\n",
       "<table border=\"1\" class=\"dataframe\">\n",
       "  <thead>\n",
       "    <tr style=\"text-align: right;\">\n",
       "      <th></th>\n",
       "      <th>과일이</th>\n",
       "      <th>길고</th>\n",
       "      <th>노란</th>\n",
       "      <th>먹고</th>\n",
       "      <th>바나나</th>\n",
       "      <th>사과</th>\n",
       "      <th>싶은</th>\n",
       "      <th>저는</th>\n",
       "      <th>좋아요</th>\n",
       "    </tr>\n",
       "  </thead>\n",
       "  <tbody>\n",
       "    <tr>\n",
       "      <th>0</th>\n",
       "      <td>0</td>\n",
       "      <td>0</td>\n",
       "      <td>0</td>\n",
       "      <td>1</td>\n",
       "      <td>0</td>\n",
       "      <td>1</td>\n",
       "      <td>1</td>\n",
       "      <td>0</td>\n",
       "      <td>0</td>\n",
       "    </tr>\n",
       "    <tr>\n",
       "      <th>1</th>\n",
       "      <td>0</td>\n",
       "      <td>0</td>\n",
       "      <td>0</td>\n",
       "      <td>1</td>\n",
       "      <td>1</td>\n",
       "      <td>0</td>\n",
       "      <td>1</td>\n",
       "      <td>0</td>\n",
       "      <td>0</td>\n",
       "    </tr>\n",
       "    <tr>\n",
       "      <th>2</th>\n",
       "      <td>0</td>\n",
       "      <td>1</td>\n",
       "      <td>1</td>\n",
       "      <td>0</td>\n",
       "      <td>2</td>\n",
       "      <td>0</td>\n",
       "      <td>0</td>\n",
       "      <td>0</td>\n",
       "      <td>0</td>\n",
       "    </tr>\n",
       "    <tr>\n",
       "      <th>3</th>\n",
       "      <td>1</td>\n",
       "      <td>0</td>\n",
       "      <td>0</td>\n",
       "      <td>0</td>\n",
       "      <td>0</td>\n",
       "      <td>0</td>\n",
       "      <td>0</td>\n",
       "      <td>1</td>\n",
       "      <td>1</td>\n",
       "    </tr>\n",
       "  </tbody>\n",
       "</table>\n",
       "</div>"
      ],
      "text/plain": [
       "   과일이  길고  노란  먹고  바나나  사과  싶은  저는  좋아요\n",
       "0    0   0   0   1    0   1   1   0    0\n",
       "1    0   0   0   1    1   0   1   0    0\n",
       "2    0   1   1   0    2   0   0   0    0\n",
       "3    1   0   0   0    0   0   0   1    1"
      ]
     },
     "execution_count": 102,
     "metadata": {},
     "output_type": "execute_result"
    }
   ],
   "source": [
    "result = []\n",
    "for i in range(N): # 각 문서에 대해서 아래 명령을 수행\n",
    "    result.append([])\n",
    "    d = docs[i]\n",
    "    for j in range(len(vocab)):\n",
    "        t = vocab[j]        \n",
    "        result[-1].append(tf(t, d))\n",
    "\n",
    "tf_ = pd.DataFrame(result, columns = vocab)\n",
    "tf_"
   ]
  },
  {
   "cell_type": "code",
   "execution_count": 103,
   "metadata": {},
   "outputs": [
    {
     "data": {
      "text/html": [
       "<div>\n",
       "<style scoped>\n",
       "    .dataframe tbody tr th:only-of-type {\n",
       "        vertical-align: middle;\n",
       "    }\n",
       "\n",
       "    .dataframe tbody tr th {\n",
       "        vertical-align: top;\n",
       "    }\n",
       "\n",
       "    .dataframe thead th {\n",
       "        text-align: right;\n",
       "    }\n",
       "</style>\n",
       "<table border=\"1\" class=\"dataframe\">\n",
       "  <thead>\n",
       "    <tr style=\"text-align: right;\">\n",
       "      <th></th>\n",
       "      <th>IDF</th>\n",
       "    </tr>\n",
       "  </thead>\n",
       "  <tbody>\n",
       "    <tr>\n",
       "      <th>과일이</th>\n",
       "      <td>0.693147</td>\n",
       "    </tr>\n",
       "    <tr>\n",
       "      <th>길고</th>\n",
       "      <td>0.693147</td>\n",
       "    </tr>\n",
       "    <tr>\n",
       "      <th>노란</th>\n",
       "      <td>0.693147</td>\n",
       "    </tr>\n",
       "    <tr>\n",
       "      <th>먹고</th>\n",
       "      <td>0.287682</td>\n",
       "    </tr>\n",
       "    <tr>\n",
       "      <th>바나나</th>\n",
       "      <td>0.287682</td>\n",
       "    </tr>\n",
       "    <tr>\n",
       "      <th>사과</th>\n",
       "      <td>0.693147</td>\n",
       "    </tr>\n",
       "    <tr>\n",
       "      <th>싶은</th>\n",
       "      <td>0.287682</td>\n",
       "    </tr>\n",
       "    <tr>\n",
       "      <th>저는</th>\n",
       "      <td>0.693147</td>\n",
       "    </tr>\n",
       "    <tr>\n",
       "      <th>좋아요</th>\n",
       "      <td>0.693147</td>\n",
       "    </tr>\n",
       "  </tbody>\n",
       "</table>\n",
       "</div>"
      ],
      "text/plain": [
       "          IDF\n",
       "과일이  0.693147\n",
       "길고   0.693147\n",
       "노란   0.693147\n",
       "먹고   0.287682\n",
       "바나나  0.287682\n",
       "사과   0.693147\n",
       "싶은   0.287682\n",
       "저는   0.693147\n",
       "좋아요  0.693147"
      ]
     },
     "execution_count": 103,
     "metadata": {},
     "output_type": "execute_result"
    }
   ],
   "source": [
    "result = []\n",
    "for j in range(len(vocab)):\n",
    "    t = vocab[j]\n",
    "    result.append(idf(t))\n",
    "\n",
    "idf_ = pd.DataFrame(result, index = vocab, columns = [\"IDF\"])\n",
    "idf_"
   ]
  },
  {
   "cell_type": "code",
   "execution_count": 104,
   "metadata": {},
   "outputs": [
    {
     "data": {
      "text/html": [
       "<div>\n",
       "<style scoped>\n",
       "    .dataframe tbody tr th:only-of-type {\n",
       "        vertical-align: middle;\n",
       "    }\n",
       "\n",
       "    .dataframe tbody tr th {\n",
       "        vertical-align: top;\n",
       "    }\n",
       "\n",
       "    .dataframe thead th {\n",
       "        text-align: right;\n",
       "    }\n",
       "</style>\n",
       "<table border=\"1\" class=\"dataframe\">\n",
       "  <thead>\n",
       "    <tr style=\"text-align: right;\">\n",
       "      <th></th>\n",
       "      <th>과일이</th>\n",
       "      <th>길고</th>\n",
       "      <th>노란</th>\n",
       "      <th>먹고</th>\n",
       "      <th>바나나</th>\n",
       "      <th>사과</th>\n",
       "      <th>싶은</th>\n",
       "      <th>저는</th>\n",
       "      <th>좋아요</th>\n",
       "    </tr>\n",
       "  </thead>\n",
       "  <tbody>\n",
       "    <tr>\n",
       "      <th>0</th>\n",
       "      <td>0.000000</td>\n",
       "      <td>0.000000</td>\n",
       "      <td>0.000000</td>\n",
       "      <td>0.287682</td>\n",
       "      <td>0.000000</td>\n",
       "      <td>0.693147</td>\n",
       "      <td>0.287682</td>\n",
       "      <td>0.000000</td>\n",
       "      <td>0.000000</td>\n",
       "    </tr>\n",
       "    <tr>\n",
       "      <th>1</th>\n",
       "      <td>0.000000</td>\n",
       "      <td>0.000000</td>\n",
       "      <td>0.000000</td>\n",
       "      <td>0.287682</td>\n",
       "      <td>0.287682</td>\n",
       "      <td>0.000000</td>\n",
       "      <td>0.287682</td>\n",
       "      <td>0.000000</td>\n",
       "      <td>0.000000</td>\n",
       "    </tr>\n",
       "    <tr>\n",
       "      <th>2</th>\n",
       "      <td>0.000000</td>\n",
       "      <td>0.693147</td>\n",
       "      <td>0.693147</td>\n",
       "      <td>0.000000</td>\n",
       "      <td>0.575364</td>\n",
       "      <td>0.000000</td>\n",
       "      <td>0.000000</td>\n",
       "      <td>0.000000</td>\n",
       "      <td>0.000000</td>\n",
       "    </tr>\n",
       "    <tr>\n",
       "      <th>3</th>\n",
       "      <td>0.693147</td>\n",
       "      <td>0.000000</td>\n",
       "      <td>0.000000</td>\n",
       "      <td>0.000000</td>\n",
       "      <td>0.000000</td>\n",
       "      <td>0.000000</td>\n",
       "      <td>0.000000</td>\n",
       "      <td>0.693147</td>\n",
       "      <td>0.693147</td>\n",
       "    </tr>\n",
       "  </tbody>\n",
       "</table>\n",
       "</div>"
      ],
      "text/plain": [
       "        과일이        길고        노란        먹고       바나나        사과        싶은  \\\n",
       "0  0.000000  0.000000  0.000000  0.287682  0.000000  0.693147  0.287682   \n",
       "1  0.000000  0.000000  0.000000  0.287682  0.287682  0.000000  0.287682   \n",
       "2  0.000000  0.693147  0.693147  0.000000  0.575364  0.000000  0.000000   \n",
       "3  0.693147  0.000000  0.000000  0.000000  0.000000  0.000000  0.000000   \n",
       "\n",
       "         저는       좋아요  \n",
       "0  0.000000  0.000000  \n",
       "1  0.000000  0.000000  \n",
       "2  0.000000  0.000000  \n",
       "3  0.693147  0.693147  "
      ]
     },
     "execution_count": 104,
     "metadata": {},
     "output_type": "execute_result"
    }
   ],
   "source": [
    "result = []\n",
    "for i in range(N):\n",
    "    result.append([])\n",
    "    d = docs[i]\n",
    "    for j in range(len(vocab)):\n",
    "        t = vocab[j]\n",
    "\n",
    "        result[-1].append(tfidf(t,d))\n",
    "\n",
    "tfidf_ = pd.DataFrame(result, columns = vocab)\n",
    "tfidf_"
   ]
  },
  {
   "cell_type": "code",
   "execution_count": 105,
   "metadata": {},
   "outputs": [
    {
     "name": "stdout",
     "output_type": "stream",
     "text": [
      "[[0 0 0 1 0 1 1 0 0]\n",
      " [0 0 0 1 1 0 1 0 0]\n",
      " [0 1 1 0 2 0 0 0 0]\n",
      " [1 0 0 0 0 0 0 1 1]]\n",
      "{'먹고': 3, '싶은': 6, '사과': 5, '바나나': 4, '길고': 1, '노란': 2, '저는': 7, '과일이': 0, '좋아요': 8}\n"
     ]
    }
   ],
   "source": [
    "from sklearn.feature_extraction.text import CountVectorizer\n",
    "\n",
    "corpus = [\n",
    "  '먹고 싶은 사과',\n",
    "  '먹고 싶은 바나나',\n",
    "  '길고 노란 바나나 바나나',\n",
    "  '저는 과일이 좋아요'\n",
    "]\n",
    "vector = CountVectorizer()\n",
    "print(vector.fit_transform(corpus).toarray()) # 코퍼스로부터 각 단어의 빈도 수를 기록한다.\n",
    "print(vector.vocabulary_) # 각 단어의 인덱스가 어떻게 부여되었는지를 보여준다."
   ]
  },
  {
   "cell_type": "code",
   "execution_count": 106,
   "metadata": {},
   "outputs": [
    {
     "name": "stdout",
     "output_type": "stream",
     "text": [
      "[[0.         0.         0.         0.52640543 0.         0.66767854\n",
      "  0.52640543 0.         0.        ]\n",
      " [0.         0.         0.         0.57735027 0.57735027 0.\n",
      "  0.57735027 0.         0.        ]\n",
      " [0.         0.47212003 0.47212003 0.         0.7444497  0.\n",
      "  0.         0.         0.        ]\n",
      " [0.57735027 0.         0.         0.         0.         0.\n",
      "  0.         0.57735027 0.57735027]]\n",
      "{'먹고': 3, '싶은': 6, '사과': 5, '바나나': 4, '길고': 1, '노란': 2, '저는': 7, '과일이': 0, '좋아요': 8}\n"
     ]
    }
   ],
   "source": [
    "from sklearn.feature_extraction.text import TfidfVectorizer\n",
    "corpus = [\n",
    "  '먹고 싶은 사과',\n",
    "  '먹고 싶은 바나나',\n",
    "  '길고 노란 바나나 바나나',\n",
    "  '저는 과일이 좋아요'\n",
    "]\n",
    "tfidfv = TfidfVectorizer().fit(corpus)\n",
    "print(tfidfv.transform(corpus).toarray())\n",
    "print(tfidfv.vocabulary_)"
   ]
  },
  {
   "cell_type": "code",
   "execution_count": 107,
   "metadata": {},
   "outputs": [
    {
     "name": "stdout",
     "output_type": "stream",
     "text": [
      "[[0 1 1 1]\n",
      " [1 0 1 1]\n",
      " [2 0 2 2]]\n",
      "{'저는': 2, '사과': 1, '좋아요': 3, '바나나': 0}\n"
     ]
    }
   ],
   "source": [
    "from sklearn.feature_extraction.text import CountVectorizer\n",
    "\n",
    "corpus = [\n",
    "  '저는 사과 좋아요',\n",
    "  '저는 바나나 좋아요',\n",
    "  '저는 바나나 좋아요 저는 바나나 좋아요'\n",
    "]\n",
    "vector = CountVectorizer()\n",
    "dtm = vector.fit_transform(corpus).toarray()\n",
    "print(dtm) # 코퍼스로부터 각 단어의 빈도 수를 기록한다.\n",
    "print(vector.vocabulary_) # 각 단어의 인덱스가 어떻게 부여되었는지를 보여준다."
   ]
  },
  {
   "cell_type": "code",
   "execution_count": 108,
   "metadata": {},
   "outputs": [],
   "source": [
    "from numpy import dot\n",
    "from numpy.linalg import norm\n",
    "import numpy as np\n",
    "def cos_sim(A, B):\n",
    "       return dot(A, B)/(norm(A)*norm(B))"
   ]
  },
  {
   "cell_type": "code",
   "execution_count": 109,
   "metadata": {},
   "outputs": [
    {
     "name": "stdout",
     "output_type": "stream",
     "text": [
      "0.6666666666666667\n",
      "0.6666666666666667\n",
      "1.0000000000000002\n"
     ]
    }
   ],
   "source": [
    "print(cos_sim(dtm[0], dtm[1])) #문서1과 문서2의 코사인 유사도\n",
    "print(cos_sim(dtm[0], dtm[2])) #문서1과 문서3의 코사인 유사도\n",
    "print(cos_sim(dtm[1], dtm[2])) #문서2과 문서3의 코사인 유사도"
   ]
  },
  {
   "cell_type": "markdown",
   "metadata": {},
   "source": [
    "## 5. 한글 자모 분해와 결합"
   ]
  },
  {
   "cell_type": "code",
   "execution_count": 110,
   "metadata": {},
   "outputs": [],
   "source": [
    "import hgtk                      ## 한글의 자음과 모음을 분리하는 모듈을 사용한다 "
   ]
  },
  {
   "cell_type": "markdown",
   "metadata": {},
   "source": [
    "### 한글 자모 분해, 조합(오토마타), 조사 붙이기, 초/중/종 분해조합, 한글/한자/영문 여부 체크 등을 지원합니다."
   ]
  },
  {
   "cell_type": "code",
   "execution_count": 111,
   "metadata": {},
   "outputs": [
    {
     "data": {
      "text/plain": [
       "('ㄱ', 'ㅏ', 'ㅁ')"
      ]
     },
     "execution_count": 111,
     "metadata": {},
     "output_type": "execute_result"
    }
   ],
   "source": [
    "hgtk.letter.decompose('감')          ## 특정 글자를 분리하면 초성 중성 종성으로 분리된다 "
   ]
  },
  {
   "cell_type": "code",
   "execution_count": 112,
   "metadata": {},
   "outputs": [
    {
     "data": {
      "text/plain": [
       "'감'"
      ]
     },
     "execution_count": 112,
     "metadata": {},
     "output_type": "execute_result"
    }
   ],
   "source": [
    "hgtk.letter.compose('ㄱ', 'ㅏ', 'ㅁ')      ## 분리된 글자를 하나의 글자로 합친다. "
   ]
  },
  {
   "cell_type": "code",
   "execution_count": 113,
   "metadata": {},
   "outputs": [],
   "source": [
    "sample_text = '''타밀어는 드라비다어족의 남부 계통, 즉 남부드라비다어파에 속하는 언어이다.\n",
    "공식어로 지정된 인도의 주요 언어 중에서 타밀어와 계통적으로 가장 가까운 것은 말라얄람어인데, \n",
    "9세기 무렵까지 말라얄람어는 타밀어의 방언이었다.\n",
    "이 두 언어 간에는 선사 시대에 일어난 서부 방언(말라얄람어의 원형) 분열의 증거가 되는 많은 차이가 있지만, \n",
    "13~14세기 무렵까지도 두 언어는 완전히 서로 다른 언어로 분리되지 않은 채였다.'''"
   ]
  },
  {
   "cell_type": "code",
   "execution_count": 114,
   "metadata": {},
   "outputs": [],
   "source": [
    "s = hgtk.text.decompose(sample_text)        ## 여러 문장에 대해 단어를 분리한다. "
   ]
  },
  {
   "cell_type": "code",
   "execution_count": 115,
   "metadata": {},
   "outputs": [
    {
     "data": {
      "text/plain": [
       "'ㅌㅏᴥㅁㅣㄹᴥㅇㅓᴥㄴㅡㄴᴥ ㄷㅡᴥㄹㅏᴥㅂㅣᴥㄷㅏᴥㅇㅓᴥㅈㅗㄱᴥㅇㅢᴥ ㄴㅏ'"
      ]
     },
     "execution_count": 115,
     "metadata": {},
     "output_type": "execute_result"
    }
   ],
   "source": [
    "s[:40]"
   ]
  },
  {
   "cell_type": "code",
   "execution_count": 116,
   "metadata": {},
   "outputs": [
    {
     "data": {
      "text/plain": [
       "'타밀어는 드라비다어족의 남부 계통, 즉 남부드라비다어파에 속하는 언어이다'"
      ]
     },
     "execution_count": 116,
     "metadata": {},
     "output_type": "execute_result"
    }
   ],
   "source": [
    "hgtk.text.compose(s)[:40]                     ## 분리된 것을 하나로 합친다. "
   ]
  },
  {
   "cell_type": "code",
   "execution_count": 117,
   "metadata": {},
   "outputs": [
    {
     "data": {
      "text/plain": [
       "True"
      ]
     },
     "execution_count": 117,
     "metadata": {},
     "output_type": "execute_result"
    }
   ],
   "source": [
    "hgtk.checker.is_hangul('한글입니다')           ## 한글 여부를 확인한다 "
   ]
  },
  {
   "cell_type": "code",
   "execution_count": 118,
   "metadata": {},
   "outputs": [
    {
     "data": {
      "text/plain": [
       "False"
      ]
     },
     "execution_count": 118,
     "metadata": {},
     "output_type": "execute_result"
    }
   ],
   "source": [
    "hgtk.checker.is_hangul('no한글입니다')         ## 일부 영어가 들어가면 한글로 인식하지 않는다 "
   ]
  },
  {
   "cell_type": "code",
   "execution_count": 119,
   "metadata": {},
   "outputs": [
    {
     "data": {
      "text/plain": [
       "False"
      ]
     },
     "execution_count": 119,
     "metadata": {},
     "output_type": "execute_result"
    }
   ],
   "source": [
    "hgtk.checker.is_hangul('it is english')"
   ]
  },
  {
   "cell_type": "code",
   "execution_count": 120,
   "metadata": {},
   "outputs": [
    {
     "data": {
      "text/plain": [
       "True"
      ]
     },
     "execution_count": 120,
     "metadata": {},
     "output_type": "execute_result"
    }
   ],
   "source": [
    "hgtk.checker.is_hanja('大韓民國')                  ## 한자도 확인할 수 있다. "
   ]
  },
  {
   "cell_type": "code",
   "execution_count": 121,
   "metadata": {},
   "outputs": [
    {
     "data": {
      "text/plain": [
       "False"
      ]
     },
     "execution_count": 121,
     "metadata": {},
     "output_type": "execute_result"
    }
   ],
   "source": [
    "hgtk.checker.is_hanja('大한민국')"
   ]
  },
  {
   "cell_type": "code",
   "execution_count": 122,
   "metadata": {},
   "outputs": [
    {
     "data": {
      "text/plain": [
       "False"
      ]
     },
     "execution_count": 122,
     "metadata": {},
     "output_type": "execute_result"
    }
   ],
   "source": [
    "hgtk.checker.is_hanja('대한민국')"
   ]
  },
  {
   "cell_type": "markdown",
   "metadata": {},
   "source": [
    "## Josa\n",
    "EUN_NEUN - 은/는"
   ]
  },
  {
   "cell_type": "code",
   "execution_count": 123,
   "metadata": {},
   "outputs": [
    {
     "data": {
      "text/plain": [
       "'하늘은'"
      ]
     },
     "execution_count": 123,
     "metadata": {},
     "output_type": "execute_result"
    }
   ],
   "source": [
    "hgtk.josa.attach('하늘', hgtk.josa.EUN_NEUN)                 ## 단어에 맞는 조사를 붙여볼 수 있다. "
   ]
  },
  {
   "cell_type": "code",
   "execution_count": 124,
   "metadata": {},
   "outputs": [
    {
     "data": {
      "text/plain": [
       "'바다는'"
      ]
     },
     "execution_count": 124,
     "metadata": {},
     "output_type": "execute_result"
    }
   ],
   "source": [
    "hgtk.josa.attach('바다', hgtk.josa.EUN_NEUN)"
   ]
  },
  {
   "cell_type": "code",
   "execution_count": 125,
   "metadata": {},
   "outputs": [
    {
     "data": {
      "text/plain": [
       "'하늘이'"
      ]
     },
     "execution_count": 125,
     "metadata": {},
     "output_type": "execute_result"
    }
   ],
   "source": [
    "hgtk.josa.attach('하늘', hgtk.josa.I_GA)"
   ]
  },
  {
   "cell_type": "code",
   "execution_count": 126,
   "metadata": {},
   "outputs": [
    {
     "data": {
      "text/plain": [
       "'바다가'"
      ]
     },
     "execution_count": 126,
     "metadata": {},
     "output_type": "execute_result"
    }
   ],
   "source": [
    "hgtk.josa.attach('바다', hgtk.josa.I_GA)"
   ]
  },
  {
   "cell_type": "code",
   "execution_count": 127,
   "metadata": {},
   "outputs": [
    {
     "data": {
      "text/plain": [
       "'하늘을'"
      ]
     },
     "execution_count": 127,
     "metadata": {},
     "output_type": "execute_result"
    }
   ],
   "source": [
    "hgtk.josa.attach('하늘', hgtk.josa.EUL_REUL)"
   ]
  },
  {
   "cell_type": "code",
   "execution_count": 128,
   "metadata": {},
   "outputs": [
    {
     "data": {
      "text/plain": [
       "'바다를'"
      ]
     },
     "execution_count": 128,
     "metadata": {},
     "output_type": "execute_result"
    }
   ],
   "source": [
    "hgtk.josa.attach('바다', hgtk.josa.EUL_REUL)"
   ]
  },
  {
   "cell_type": "code",
   "execution_count": null,
   "metadata": {},
   "outputs": [],
   "source": []
  }
 ],
 "metadata": {
  "kernelspec": {
   "display_name": "pydatavenv",
   "language": "python",
   "name": "pydatavenv"
  },
  "language_info": {
   "codemirror_mode": {
    "name": "ipython",
    "version": 3
   },
   "file_extension": ".py",
   "mimetype": "text/x-python",
   "name": "python",
   "nbconvert_exporter": "python",
   "pygments_lexer": "ipython3",
   "version": "3.7.9"
  }
 },
 "nbformat": 4,
 "nbformat_minor": 4
}
