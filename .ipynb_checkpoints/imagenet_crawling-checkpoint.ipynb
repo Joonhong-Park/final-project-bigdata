{
 "cells": [
  {
   "cell_type": "code",
   "execution_count": null,
   "metadata": {},
   "outputs": [],
   "source": [
    "from bs4 import BeautifulSoup\n",
    "import numpy as np\n",
    "import requests\n",
    "import cv2\n",
    "import PIL.Image\n",
    "import urllib"
   ]
  },
  {
   "cell_type": "code",
   "execution_count": 2,
   "metadata": {},
   "outputs": [
    {
     "name": "stdout",
     "output_type": "stream",
     "text": [
      "1317\n",
      "http://farm4.static.flickr.com/3615/3324281307_6966279e01.jpg\n"
     ]
    }
   ],
   "source": [
    "page = requests.get(\"http://www.image-net.org/api/text/imagenet.synset.geturls?wnid=n02823428\")\n",
    "soup = BeautifulSoup(page.content, 'html.parser')\n",
    "str_soup = str(soup)\n",
    "split_urls = str_soup.split('\\r\\n')\n",
    "print(len(split_urls))\n",
    "print(split_urls[0])"
   ]
  },
  {
   "cell_type": "code",
   "execution_count": null,
   "metadata": {},
   "outputs": [],
   "source": [
    "def url_download(urls, path, prefix) :\n",
    "    idx = 0\n",
    "    for url in urls:\n",
    "        try:\n",
    "            resp = urllib.request.urlopen(url)\n",
    "            image = np.asarray(bytearray(resp.read()), dtype=\"uint8\")\n",
    "            image = cv2.imdecode(image, cv2.IMREAD_COLOR)\n",
    "            if (len(image.shape)) == 3:\n",
    "                print(url)\n",
    "                idx += 1\n",
    "                save_path = path + '/' + prefix + str(idx) + '.jpg'\n",
    "                cv2.imwrite(save_path, image)\n",
    "        except:\n",
    "            None         "
   ]
  },
  {
   "cell_type": "code",
   "execution_count": null,
   "metadata": {},
   "outputs": [],
   "source": [
    "url_download(split_urls, 'C:\\recycle_project\\imageNet\\beer', 'beer_')"
   ]
  },
  {
   "cell_type": "code",
   "execution_count": null,
   "metadata": {},
   "outputs": [],
   "source": []
  },
  {
   "cell_type": "code",
   "execution_count": null,
   "metadata": {},
   "outputs": [],
   "source": []
  }
 ],
 "metadata": {
  "kernelspec": {
   "display_name": "pydatavenv",
   "language": "python",
   "name": "pydatavenv"
  },
  "language_info": {
   "codemirror_mode": {
    "name": "ipython",
    "version": 3
   },
   "file_extension": ".py",
   "mimetype": "text/x-python",
   "name": "python",
   "nbconvert_exporter": "python",
   "pygments_lexer": "ipython3",
   "version": "3.7.9"
  }
 },
 "nbformat": 4,
 "nbformat_minor": 4
}
