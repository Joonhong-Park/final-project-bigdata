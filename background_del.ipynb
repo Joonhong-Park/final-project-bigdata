{
 "cells": [
  {
   "cell_type": "code",
   "execution_count": 12,
   "metadata": {},
   "outputs": [
    {
     "name": "stdout",
     "output_type": "stream",
     "text": [
      "오른쪽 마우스 버튼을 누르고 영역을 지정한 후 n을 누르세요\n"
     ]
    }
   ],
   "source": [
    "import numpy as np\n",
    "import cv2\n",
    "\n",
    "BLUE, GREEN, RED, BLACK, WHITE = (255,0,0), (0,255,0), (0,0,255), (0,0,0), (255,255,255)\n",
    "DRAW_BG = {'color':BLACK, 'val':0}\n",
    "DRAW_FG = {'color':WHITE, 'val':1}\n",
    "\n",
    "rect = (0,0,1,1)\n",
    "drawing = False\n",
    "rectangle = False\n",
    "rect_over = False\n",
    "rect_or_mask = 100\n",
    "value = DRAW_FG\n",
    "thickness = 3\n",
    "\n",
    "def onMouse(event, x, y, flags, param):\n",
    "    global ix, iy, img, img2, drawing, value, mask, rectangle\n",
    "    global rect, rect_or_mask, rect_over\n",
    "    \n",
    "    if event == cv2.EVENT_RBUTTONDOWN:\n",
    "        rectangle = True\n",
    "        ix, iy = x, y\n",
    "        \n",
    "    elif event == cv2.EVENT_MOUSEMOVE:\n",
    "        if rectangle:\n",
    "            img = img2.copy()\n",
    "            cv2.rectangle(img, (ix, iy), (x,y), RED, 2)\n",
    "            rect = (min(ix, x), min(iy, y), abs(ix-x), abs(iy-y))\n",
    "            rect_or_mask = 0\n",
    "            \n",
    "    elif event == cv2.EVENT_RBUTTONUP:\n",
    "        rectangle = False\n",
    "        rect_over = True\n",
    "        \n",
    "        cv2.rectangle(img, (ix, iy), (x,y), RED, 2)\n",
    "        rect = (min(ix, x), min(iy, y), abs(ix-x), abs(iy-y))\n",
    "        rect_or_mask = 0\n",
    "        print('n:적용하기')\n",
    "        \n",
    "    if event == cv2.EVENT_LBUTTONDOWN:\n",
    "        if not rect_over:\n",
    "            print('마우스 왼쪽 버튼을 누른채로 배경 부분을 선택하세요')\n",
    "        else:\n",
    "            drawing = True\n",
    "            cv2.circle(img, (x,y), thickness, value['color'], -1)\n",
    "            cv2.circle(mask, (x,y), thickness, value['val'], -1)\n",
    "            \n",
    "    elif event == cv2.EVENT_MOUSEMOVE:\n",
    "        if drawing:\n",
    "            cv2.circle(img, (x,y), thickness, value['color'], -1)\n",
    "            cv2.circle(mask, (x,y), thickness, value['val'], -1)\n",
    "            \n",
    "    elif event == cv2.EVENT_LBUTTONUP:\n",
    "        if drawing:\n",
    "            drawing = False\n",
    "            cv2.circle(img, (x,y), thickness, value['color'], -1)\n",
    "            cv2.circle(mask, (x,y), thickness, value['val'], -1)    \n",
    "            \n",
    "    return\n",
    "\n",
    "def grabcut(imagepath):\n",
    "    global ix, iy, img, img2, drawing, value, mask, rectangle\n",
    "    global rect, rect_or_mask, rect_over\n",
    "    \n",
    "    filepath = 'images/'\n",
    "    img = cv2.imread(filepath + imagepath)\n",
    "    img2 = img.copy()\n",
    "    \n",
    "    mask = np.zeros(img.shape[:2], dtype = np.uint8)\n",
    "    output = np.zeros(img.shape, np.uint8)\n",
    "    \n",
    "    cv2.namedWindow('input')\n",
    "    cv2.namedWindow('output')\n",
    "    cv2.setMouseCallback('input', onMouse, param = (img, img2))\n",
    "    cv2.moveWindow('input', img.shape[1]+10, 90)\n",
    "    \n",
    "    print('오른쪽 마우스 버튼을 누르고 영역을 지정한 후 n을 누르세요')\n",
    "    \n",
    "    while True:\n",
    "        cv2.imshow('output', output)\n",
    "        cv2.imshow('input', img)\n",
    "        \n",
    "        k = cv2.waitKey(1) & 0xFF\n",
    "        \n",
    "        if k == 27:\n",
    "            break\n",
    "            \n",
    "        if k == ord('0'):\n",
    "            print('왼쪽 마우스로 제거할 부분을 표시한 후 n을 누르세요')\n",
    "            value = DRAW_BG\n",
    "            \n",
    "        elif k == ord('1'):\n",
    "            print('왼쪽 마우스로 복원할 부분을 표시한 후 n을 누르세요')\n",
    "            value = DRAW_FG\n",
    "        \n",
    "        elif k == ord('2'):\n",
    "            cv2.imwrite('images/'+imagepath, output)\n",
    "            print('저장되었습니다.')\n",
    "            cv2.destroyAllWindows()\n",
    "            break\n",
    "            \n",
    "        elif k == ord('r'):\n",
    "            print('리셋합니다.')\n",
    "            rect = (0,0,1,1)\n",
    "            drawing = False\n",
    "            rectangle = False\n",
    "            rect_or_mask = 100\n",
    "            rect_over = False\n",
    "            value = DRAW_FG\n",
    "            img = img2.copy()\n",
    "            mask = np.zeros(img.shape[:2], dtype=np.uint8)\n",
    "            output = np.zeris(img.shape, np.uint8)\n",
    "            print('0:제거배경선택 1:복원전경선택, n:적용하기 r:리셋')\n",
    "            \n",
    "        elif k == ord('n'):\n",
    "            bgdModel = np.zeros((1, 65), np.float64)\n",
    "            fgdModel = np.zeros((1, 65), np.float64)\n",
    "                \n",
    "            if rect_or_mask == 0:\n",
    "                cv2.grabCut(img2, mask, rect, bgdModel, fgdModel, 1, cv2.GC_INIT_WITH_RECT)\n",
    "                rect_or_mask = 1\n",
    "            elif rect_or_mask == 1:\n",
    "                cv2.grabCut(img2, mask, rect, bgdModel, fgdModel, 1, cv2.GC_INIT_WITH_MASK)\n",
    "                    \n",
    "            print('0:제거배경선택 1:복원전경선택 n:적용하기 r:리셋')\n",
    "                \n",
    "        mask2 = np.where((mask == 1) + (mask == 3), 255, 0).astype('uint8')\n",
    "        output = cv2.bitwise_and(img2, img2, mask = mask2)\n",
    "        \n",
    "        lower_black = np.array([0,0,0])\n",
    "        lower_black = np.array([0,0,0])\n",
    "            \n",
    "    cv2.destroyAllWindows()\n",
    "\n",
    "imagepath = 'cat.jpg'\n",
    "\n",
    "grabcut(imagepath)"
   ]
  },
  {
   "cell_type": "code",
   "execution_count": 13,
   "metadata": {},
   "outputs": [],
   "source": [
    "from PIL import Image"
   ]
  },
  {
   "cell_type": "code",
   "execution_count": 40,
   "metadata": {},
   "outputs": [],
   "source": [
    "im = Image.open('images/cat.jpg')\n",
    "\n",
    "px = im.load()"
   ]
  },
  {
   "cell_type": "code",
   "execution_count": 41,
   "metadata": {},
   "outputs": [
    {
     "name": "stdout",
     "output_type": "stream",
     "text": [
      "images/cat.jpg\n",
      "(441, 380)\n",
      "441 380\n",
      "JPEG\n"
     ]
    }
   ],
   "source": [
    "print(im.filename)\n",
    "print(im.size)\n",
    "print(im.width, im.height)\n",
    "print(im.format)"
   ]
  },
  {
   "cell_type": "code",
   "execution_count": 45,
   "metadata": {},
   "outputs": [],
   "source": [
    "for i in range(0, im.width):\n",
    "    for j in range(0, im.height):\n",
    "        if px[i,j][0:3] == 0 :\n",
    "             px[i,j] == (255, 255, 255)\n",
    "\n",
    "im.save('images/fixedcat.jpg')            \n"
   ]
  },
  {
   "cell_type": "code",
   "execution_count": null,
   "metadata": {},
   "outputs": [],
   "source": []
  },
  {
   "cell_type": "code",
   "execution_count": null,
   "metadata": {},
   "outputs": [],
   "source": []
  }
 ],
 "metadata": {
  "kernelspec": {
   "display_name": "pydatavenv",
   "language": "python",
   "name": "pydatavenv"
  },
  "language_info": {
   "codemirror_mode": {
    "name": "ipython",
    "version": 3
   },
   "file_extension": ".py",
   "mimetype": "text/x-python",
   "name": "python",
   "nbconvert_exporter": "python",
   "pygments_lexer": "ipython3",
   "version": "3.7.9"
  }
 },
 "nbformat": 4,
 "nbformat_minor": 4
}
